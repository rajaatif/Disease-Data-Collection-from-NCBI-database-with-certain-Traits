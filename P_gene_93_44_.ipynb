{
  "nbformat": 4,
  "nbformat_minor": 0,
  "metadata": {
    "colab": {
      "provenance": [],
      "collapsed_sections": [
        "2Bi03KoM77ts"
      ],
      "gpuType": "T4",
      "include_colab_link": true
    },
    "kernelspec": {
      "name": "python3",
      "display_name": "Python 3"
    },
    "language_info": {
      "name": "python"
    },
    "accelerator": "GPU",
    "widgets": {
      "application/vnd.jupyter.widget-state+json": {
        "77b5f3f622dd4a13b3dc525a68740cba": {
          "model_module": "@jupyter-widgets/controls",
          "model_name": "HBoxModel",
          "model_module_version": "1.5.0",
          "state": {
            "_dom_classes": [],
            "_model_module": "@jupyter-widgets/controls",
            "_model_module_version": "1.5.0",
            "_model_name": "HBoxModel",
            "_view_count": null,
            "_view_module": "@jupyter-widgets/controls",
            "_view_module_version": "1.5.0",
            "_view_name": "HBoxView",
            "box_style": "",
            "children": [
              "IPY_MODEL_22348ba8035e48468b66c48a2fa9715a",
              "IPY_MODEL_444aa7cb155d4ee5a7920b8dd4f5eb85",
              "IPY_MODEL_424ecc1ab3fb4650ac7c0adfdcc4f851"
            ],
            "layout": "IPY_MODEL_3f8d70448371470a98d7be8b57580072"
          }
        },
        "22348ba8035e48468b66c48a2fa9715a": {
          "model_module": "@jupyter-widgets/controls",
          "model_name": "HTMLModel",
          "model_module_version": "1.5.0",
          "state": {
            "_dom_classes": [],
            "_model_module": "@jupyter-widgets/controls",
            "_model_module_version": "1.5.0",
            "_model_name": "HTMLModel",
            "_view_count": null,
            "_view_module": "@jupyter-widgets/controls",
            "_view_module_version": "1.5.0",
            "_view_name": "HTMLView",
            "description": "",
            "description_tooltip": null,
            "layout": "IPY_MODEL_e8d1ee77a2244da5890a4fcea54391e1",
            "placeholder": "​",
            "style": "IPY_MODEL_7575869bf3cf43abaacd63ef0acb881a",
            "value": "100%"
          }
        },
        "444aa7cb155d4ee5a7920b8dd4f5eb85": {
          "model_module": "@jupyter-widgets/controls",
          "model_name": "FloatProgressModel",
          "model_module_version": "1.5.0",
          "state": {
            "_dom_classes": [],
            "_model_module": "@jupyter-widgets/controls",
            "_model_module_version": "1.5.0",
            "_model_name": "FloatProgressModel",
            "_view_count": null,
            "_view_module": "@jupyter-widgets/controls",
            "_view_module_version": "1.5.0",
            "_view_name": "ProgressView",
            "bar_style": "success",
            "description": "",
            "description_tooltip": null,
            "layout": "IPY_MODEL_b826cdf63fdc4ff9b9975a7c3cd420f3",
            "max": 3191,
            "min": 0,
            "orientation": "horizontal",
            "style": "IPY_MODEL_d8ab0df6ebbf429481cb384f560d5554",
            "value": 3191
          }
        },
        "424ecc1ab3fb4650ac7c0adfdcc4f851": {
          "model_module": "@jupyter-widgets/controls",
          "model_name": "HTMLModel",
          "model_module_version": "1.5.0",
          "state": {
            "_dom_classes": [],
            "_model_module": "@jupyter-widgets/controls",
            "_model_module_version": "1.5.0",
            "_model_name": "HTMLModel",
            "_view_count": null,
            "_view_module": "@jupyter-widgets/controls",
            "_view_module_version": "1.5.0",
            "_view_name": "HTMLView",
            "description": "",
            "description_tooltip": null,
            "layout": "IPY_MODEL_982403c4d2d44f1daa0b31d2d413bdae",
            "placeholder": "​",
            "style": "IPY_MODEL_fd2b8b2366774672a824071fd1ce9119",
            "value": " 3191/3191 [10:39&lt;00:00,  5.02it/s]"
          }
        },
        "3f8d70448371470a98d7be8b57580072": {
          "model_module": "@jupyter-widgets/base",
          "model_name": "LayoutModel",
          "model_module_version": "1.2.0",
          "state": {
            "_model_module": "@jupyter-widgets/base",
            "_model_module_version": "1.2.0",
            "_model_name": "LayoutModel",
            "_view_count": null,
            "_view_module": "@jupyter-widgets/base",
            "_view_module_version": "1.2.0",
            "_view_name": "LayoutView",
            "align_content": null,
            "align_items": null,
            "align_self": null,
            "border": null,
            "bottom": null,
            "display": null,
            "flex": null,
            "flex_flow": null,
            "grid_area": null,
            "grid_auto_columns": null,
            "grid_auto_flow": null,
            "grid_auto_rows": null,
            "grid_column": null,
            "grid_gap": null,
            "grid_row": null,
            "grid_template_areas": null,
            "grid_template_columns": null,
            "grid_template_rows": null,
            "height": null,
            "justify_content": null,
            "justify_items": null,
            "left": null,
            "margin": null,
            "max_height": null,
            "max_width": null,
            "min_height": null,
            "min_width": null,
            "object_fit": null,
            "object_position": null,
            "order": null,
            "overflow": null,
            "overflow_x": null,
            "overflow_y": null,
            "padding": null,
            "right": null,
            "top": null,
            "visibility": null,
            "width": null
          }
        },
        "e8d1ee77a2244da5890a4fcea54391e1": {
          "model_module": "@jupyter-widgets/base",
          "model_name": "LayoutModel",
          "model_module_version": "1.2.0",
          "state": {
            "_model_module": "@jupyter-widgets/base",
            "_model_module_version": "1.2.0",
            "_model_name": "LayoutModel",
            "_view_count": null,
            "_view_module": "@jupyter-widgets/base",
            "_view_module_version": "1.2.0",
            "_view_name": "LayoutView",
            "align_content": null,
            "align_items": null,
            "align_self": null,
            "border": null,
            "bottom": null,
            "display": null,
            "flex": null,
            "flex_flow": null,
            "grid_area": null,
            "grid_auto_columns": null,
            "grid_auto_flow": null,
            "grid_auto_rows": null,
            "grid_column": null,
            "grid_gap": null,
            "grid_row": null,
            "grid_template_areas": null,
            "grid_template_columns": null,
            "grid_template_rows": null,
            "height": null,
            "justify_content": null,
            "justify_items": null,
            "left": null,
            "margin": null,
            "max_height": null,
            "max_width": null,
            "min_height": null,
            "min_width": null,
            "object_fit": null,
            "object_position": null,
            "order": null,
            "overflow": null,
            "overflow_x": null,
            "overflow_y": null,
            "padding": null,
            "right": null,
            "top": null,
            "visibility": null,
            "width": null
          }
        },
        "7575869bf3cf43abaacd63ef0acb881a": {
          "model_module": "@jupyter-widgets/controls",
          "model_name": "DescriptionStyleModel",
          "model_module_version": "1.5.0",
          "state": {
            "_model_module": "@jupyter-widgets/controls",
            "_model_module_version": "1.5.0",
            "_model_name": "DescriptionStyleModel",
            "_view_count": null,
            "_view_module": "@jupyter-widgets/base",
            "_view_module_version": "1.2.0",
            "_view_name": "StyleView",
            "description_width": ""
          }
        },
        "b826cdf63fdc4ff9b9975a7c3cd420f3": {
          "model_module": "@jupyter-widgets/base",
          "model_name": "LayoutModel",
          "model_module_version": "1.2.0",
          "state": {
            "_model_module": "@jupyter-widgets/base",
            "_model_module_version": "1.2.0",
            "_model_name": "LayoutModel",
            "_view_count": null,
            "_view_module": "@jupyter-widgets/base",
            "_view_module_version": "1.2.0",
            "_view_name": "LayoutView",
            "align_content": null,
            "align_items": null,
            "align_self": null,
            "border": null,
            "bottom": null,
            "display": null,
            "flex": null,
            "flex_flow": null,
            "grid_area": null,
            "grid_auto_columns": null,
            "grid_auto_flow": null,
            "grid_auto_rows": null,
            "grid_column": null,
            "grid_gap": null,
            "grid_row": null,
            "grid_template_areas": null,
            "grid_template_columns": null,
            "grid_template_rows": null,
            "height": null,
            "justify_content": null,
            "justify_items": null,
            "left": null,
            "margin": null,
            "max_height": null,
            "max_width": null,
            "min_height": null,
            "min_width": null,
            "object_fit": null,
            "object_position": null,
            "order": null,
            "overflow": null,
            "overflow_x": null,
            "overflow_y": null,
            "padding": null,
            "right": null,
            "top": null,
            "visibility": null,
            "width": null
          }
        },
        "d8ab0df6ebbf429481cb384f560d5554": {
          "model_module": "@jupyter-widgets/controls",
          "model_name": "ProgressStyleModel",
          "model_module_version": "1.5.0",
          "state": {
            "_model_module": "@jupyter-widgets/controls",
            "_model_module_version": "1.5.0",
            "_model_name": "ProgressStyleModel",
            "_view_count": null,
            "_view_module": "@jupyter-widgets/base",
            "_view_module_version": "1.2.0",
            "_view_name": "StyleView",
            "bar_color": null,
            "description_width": ""
          }
        },
        "982403c4d2d44f1daa0b31d2d413bdae": {
          "model_module": "@jupyter-widgets/base",
          "model_name": "LayoutModel",
          "model_module_version": "1.2.0",
          "state": {
            "_model_module": "@jupyter-widgets/base",
            "_model_module_version": "1.2.0",
            "_model_name": "LayoutModel",
            "_view_count": null,
            "_view_module": "@jupyter-widgets/base",
            "_view_module_version": "1.2.0",
            "_view_name": "LayoutView",
            "align_content": null,
            "align_items": null,
            "align_self": null,
            "border": null,
            "bottom": null,
            "display": null,
            "flex": null,
            "flex_flow": null,
            "grid_area": null,
            "grid_auto_columns": null,
            "grid_auto_flow": null,
            "grid_auto_rows": null,
            "grid_column": null,
            "grid_gap": null,
            "grid_row": null,
            "grid_template_areas": null,
            "grid_template_columns": null,
            "grid_template_rows": null,
            "height": null,
            "justify_content": null,
            "justify_items": null,
            "left": null,
            "margin": null,
            "max_height": null,
            "max_width": null,
            "min_height": null,
            "min_width": null,
            "object_fit": null,
            "object_position": null,
            "order": null,
            "overflow": null,
            "overflow_x": null,
            "overflow_y": null,
            "padding": null,
            "right": null,
            "top": null,
            "visibility": null,
            "width": null
          }
        },
        "fd2b8b2366774672a824071fd1ce9119": {
          "model_module": "@jupyter-widgets/controls",
          "model_name": "DescriptionStyleModel",
          "model_module_version": "1.5.0",
          "state": {
            "_model_module": "@jupyter-widgets/controls",
            "_model_module_version": "1.5.0",
            "_model_name": "DescriptionStyleModel",
            "_view_count": null,
            "_view_module": "@jupyter-widgets/base",
            "_view_module_version": "1.2.0",
            "_view_name": "StyleView",
            "description_width": ""
          }
        },
        "3392ee57992349f9a75c6115998ed852": {
          "model_module": "@jupyter-widgets/controls",
          "model_name": "HBoxModel",
          "model_module_version": "1.5.0",
          "state": {
            "_dom_classes": [],
            "_model_module": "@jupyter-widgets/controls",
            "_model_module_version": "1.5.0",
            "_model_name": "HBoxModel",
            "_view_count": null,
            "_view_module": "@jupyter-widgets/controls",
            "_view_module_version": "1.5.0",
            "_view_name": "HBoxView",
            "box_style": "",
            "children": [
              "IPY_MODEL_33cb112bc27d4dae9966de9ce191ef8b",
              "IPY_MODEL_53f491d20f134eaeb16998279a39023d",
              "IPY_MODEL_1f0ddd77097142299461816264b9d699"
            ],
            "layout": "IPY_MODEL_cd7c1dde00e94358bb6ad74564d0b43e"
          }
        },
        "33cb112bc27d4dae9966de9ce191ef8b": {
          "model_module": "@jupyter-widgets/controls",
          "model_name": "HTMLModel",
          "model_module_version": "1.5.0",
          "state": {
            "_dom_classes": [],
            "_model_module": "@jupyter-widgets/controls",
            "_model_module_version": "1.5.0",
            "_model_name": "HTMLModel",
            "_view_count": null,
            "_view_module": "@jupyter-widgets/controls",
            "_view_module_version": "1.5.0",
            "_view_name": "HTMLView",
            "description": "",
            "description_tooltip": null,
            "layout": "IPY_MODEL_22569e7e9b01434c91445a4463374ab0",
            "placeholder": "​",
            "style": "IPY_MODEL_61842a48d6d246d990d8ffed9e707e4c",
            "value": "100%"
          }
        },
        "53f491d20f134eaeb16998279a39023d": {
          "model_module": "@jupyter-widgets/controls",
          "model_name": "FloatProgressModel",
          "model_module_version": "1.5.0",
          "state": {
            "_dom_classes": [],
            "_model_module": "@jupyter-widgets/controls",
            "_model_module_version": "1.5.0",
            "_model_name": "FloatProgressModel",
            "_view_count": null,
            "_view_module": "@jupyter-widgets/controls",
            "_view_module_version": "1.5.0",
            "_view_name": "ProgressView",
            "bar_style": "success",
            "description": "",
            "description_tooltip": null,
            "layout": "IPY_MODEL_aab172660fcd47059cb150765a4dfd64",
            "max": 1218,
            "min": 0,
            "orientation": "horizontal",
            "style": "IPY_MODEL_3861d03445a946fcb40752897f50ce6c",
            "value": 1218
          }
        },
        "1f0ddd77097142299461816264b9d699": {
          "model_module": "@jupyter-widgets/controls",
          "model_name": "HTMLModel",
          "model_module_version": "1.5.0",
          "state": {
            "_dom_classes": [],
            "_model_module": "@jupyter-widgets/controls",
            "_model_module_version": "1.5.0",
            "_model_name": "HTMLModel",
            "_view_count": null,
            "_view_module": "@jupyter-widgets/controls",
            "_view_module_version": "1.5.0",
            "_view_name": "HTMLView",
            "description": "",
            "description_tooltip": null,
            "layout": "IPY_MODEL_330814f83b6b491d98dcbfec57f302cf",
            "placeholder": "​",
            "style": "IPY_MODEL_e370a200788e417293d02374983f1f0e",
            "value": " 1218/1218 [00:04&lt;00:00, 310.05it/s]"
          }
        },
        "cd7c1dde00e94358bb6ad74564d0b43e": {
          "model_module": "@jupyter-widgets/base",
          "model_name": "LayoutModel",
          "model_module_version": "1.2.0",
          "state": {
            "_model_module": "@jupyter-widgets/base",
            "_model_module_version": "1.2.0",
            "_model_name": "LayoutModel",
            "_view_count": null,
            "_view_module": "@jupyter-widgets/base",
            "_view_module_version": "1.2.0",
            "_view_name": "LayoutView",
            "align_content": null,
            "align_items": null,
            "align_self": null,
            "border": null,
            "bottom": null,
            "display": null,
            "flex": null,
            "flex_flow": null,
            "grid_area": null,
            "grid_auto_columns": null,
            "grid_auto_flow": null,
            "grid_auto_rows": null,
            "grid_column": null,
            "grid_gap": null,
            "grid_row": null,
            "grid_template_areas": null,
            "grid_template_columns": null,
            "grid_template_rows": null,
            "height": null,
            "justify_content": null,
            "justify_items": null,
            "left": null,
            "margin": null,
            "max_height": null,
            "max_width": null,
            "min_height": null,
            "min_width": null,
            "object_fit": null,
            "object_position": null,
            "order": null,
            "overflow": null,
            "overflow_x": null,
            "overflow_y": null,
            "padding": null,
            "right": null,
            "top": null,
            "visibility": null,
            "width": null
          }
        },
        "22569e7e9b01434c91445a4463374ab0": {
          "model_module": "@jupyter-widgets/base",
          "model_name": "LayoutModel",
          "model_module_version": "1.2.0",
          "state": {
            "_model_module": "@jupyter-widgets/base",
            "_model_module_version": "1.2.0",
            "_model_name": "LayoutModel",
            "_view_count": null,
            "_view_module": "@jupyter-widgets/base",
            "_view_module_version": "1.2.0",
            "_view_name": "LayoutView",
            "align_content": null,
            "align_items": null,
            "align_self": null,
            "border": null,
            "bottom": null,
            "display": null,
            "flex": null,
            "flex_flow": null,
            "grid_area": null,
            "grid_auto_columns": null,
            "grid_auto_flow": null,
            "grid_auto_rows": null,
            "grid_column": null,
            "grid_gap": null,
            "grid_row": null,
            "grid_template_areas": null,
            "grid_template_columns": null,
            "grid_template_rows": null,
            "height": null,
            "justify_content": null,
            "justify_items": null,
            "left": null,
            "margin": null,
            "max_height": null,
            "max_width": null,
            "min_height": null,
            "min_width": null,
            "object_fit": null,
            "object_position": null,
            "order": null,
            "overflow": null,
            "overflow_x": null,
            "overflow_y": null,
            "padding": null,
            "right": null,
            "top": null,
            "visibility": null,
            "width": null
          }
        },
        "61842a48d6d246d990d8ffed9e707e4c": {
          "model_module": "@jupyter-widgets/controls",
          "model_name": "DescriptionStyleModel",
          "model_module_version": "1.5.0",
          "state": {
            "_model_module": "@jupyter-widgets/controls",
            "_model_module_version": "1.5.0",
            "_model_name": "DescriptionStyleModel",
            "_view_count": null,
            "_view_module": "@jupyter-widgets/base",
            "_view_module_version": "1.2.0",
            "_view_name": "StyleView",
            "description_width": ""
          }
        },
        "aab172660fcd47059cb150765a4dfd64": {
          "model_module": "@jupyter-widgets/base",
          "model_name": "LayoutModel",
          "model_module_version": "1.2.0",
          "state": {
            "_model_module": "@jupyter-widgets/base",
            "_model_module_version": "1.2.0",
            "_model_name": "LayoutModel",
            "_view_count": null,
            "_view_module": "@jupyter-widgets/base",
            "_view_module_version": "1.2.0",
            "_view_name": "LayoutView",
            "align_content": null,
            "align_items": null,
            "align_self": null,
            "border": null,
            "bottom": null,
            "display": null,
            "flex": null,
            "flex_flow": null,
            "grid_area": null,
            "grid_auto_columns": null,
            "grid_auto_flow": null,
            "grid_auto_rows": null,
            "grid_column": null,
            "grid_gap": null,
            "grid_row": null,
            "grid_template_areas": null,
            "grid_template_columns": null,
            "grid_template_rows": null,
            "height": null,
            "justify_content": null,
            "justify_items": null,
            "left": null,
            "margin": null,
            "max_height": null,
            "max_width": null,
            "min_height": null,
            "min_width": null,
            "object_fit": null,
            "object_position": null,
            "order": null,
            "overflow": null,
            "overflow_x": null,
            "overflow_y": null,
            "padding": null,
            "right": null,
            "top": null,
            "visibility": null,
            "width": null
          }
        },
        "3861d03445a946fcb40752897f50ce6c": {
          "model_module": "@jupyter-widgets/controls",
          "model_name": "ProgressStyleModel",
          "model_module_version": "1.5.0",
          "state": {
            "_model_module": "@jupyter-widgets/controls",
            "_model_module_version": "1.5.0",
            "_model_name": "ProgressStyleModel",
            "_view_count": null,
            "_view_module": "@jupyter-widgets/base",
            "_view_module_version": "1.2.0",
            "_view_name": "StyleView",
            "bar_color": null,
            "description_width": ""
          }
        },
        "330814f83b6b491d98dcbfec57f302cf": {
          "model_module": "@jupyter-widgets/base",
          "model_name": "LayoutModel",
          "model_module_version": "1.2.0",
          "state": {
            "_model_module": "@jupyter-widgets/base",
            "_model_module_version": "1.2.0",
            "_model_name": "LayoutModel",
            "_view_count": null,
            "_view_module": "@jupyter-widgets/base",
            "_view_module_version": "1.2.0",
            "_view_name": "LayoutView",
            "align_content": null,
            "align_items": null,
            "align_self": null,
            "border": null,
            "bottom": null,
            "display": null,
            "flex": null,
            "flex_flow": null,
            "grid_area": null,
            "grid_auto_columns": null,
            "grid_auto_flow": null,
            "grid_auto_rows": null,
            "grid_column": null,
            "grid_gap": null,
            "grid_row": null,
            "grid_template_areas": null,
            "grid_template_columns": null,
            "grid_template_rows": null,
            "height": null,
            "justify_content": null,
            "justify_items": null,
            "left": null,
            "margin": null,
            "max_height": null,
            "max_width": null,
            "min_height": null,
            "min_width": null,
            "object_fit": null,
            "object_position": null,
            "order": null,
            "overflow": null,
            "overflow_x": null,
            "overflow_y": null,
            "padding": null,
            "right": null,
            "top": null,
            "visibility": null,
            "width": null
          }
        },
        "e370a200788e417293d02374983f1f0e": {
          "model_module": "@jupyter-widgets/controls",
          "model_name": "DescriptionStyleModel",
          "model_module_version": "1.5.0",
          "state": {
            "_model_module": "@jupyter-widgets/controls",
            "_model_module_version": "1.5.0",
            "_model_name": "DescriptionStyleModel",
            "_view_count": null,
            "_view_module": "@jupyter-widgets/base",
            "_view_module_version": "1.2.0",
            "_view_name": "StyleView",
            "description_width": ""
          }
        },
        "6a2f0840a2954624b817c2a3a28b971d": {
          "model_module": "@jupyter-widgets/controls",
          "model_name": "HBoxModel",
          "model_module_version": "1.5.0",
          "state": {
            "_dom_classes": [],
            "_model_module": "@jupyter-widgets/controls",
            "_model_module_version": "1.5.0",
            "_model_name": "HBoxModel",
            "_view_count": null,
            "_view_module": "@jupyter-widgets/controls",
            "_view_module_version": "1.5.0",
            "_view_name": "HBoxView",
            "box_style": "",
            "children": [
              "IPY_MODEL_516aeb4fefbc4405a5f2b6587401348d",
              "IPY_MODEL_a8a6aeaef6274716a825036aa36c8bce",
              "IPY_MODEL_da374bafa1614910b4470f6203a667a4"
            ],
            "layout": "IPY_MODEL_ba9153b417554cd6bdddc0434da9cb58"
          }
        },
        "516aeb4fefbc4405a5f2b6587401348d": {
          "model_module": "@jupyter-widgets/controls",
          "model_name": "HTMLModel",
          "model_module_version": "1.5.0",
          "state": {
            "_dom_classes": [],
            "_model_module": "@jupyter-widgets/controls",
            "_model_module_version": "1.5.0",
            "_model_name": "HTMLModel",
            "_view_count": null,
            "_view_module": "@jupyter-widgets/controls",
            "_view_module_version": "1.5.0",
            "_view_name": "HTMLView",
            "description": "",
            "description_tooltip": null,
            "layout": "IPY_MODEL_3b635353d72a49829f265f337bebe455",
            "placeholder": "​",
            "style": "IPY_MODEL_ffcabd781d9a46cb8a552945b3b5213d",
            "value": "100%"
          }
        },
        "a8a6aeaef6274716a825036aa36c8bce": {
          "model_module": "@jupyter-widgets/controls",
          "model_name": "FloatProgressModel",
          "model_module_version": "1.5.0",
          "state": {
            "_dom_classes": [],
            "_model_module": "@jupyter-widgets/controls",
            "_model_module_version": "1.5.0",
            "_model_name": "FloatProgressModel",
            "_view_count": null,
            "_view_module": "@jupyter-widgets/controls",
            "_view_module_version": "1.5.0",
            "_view_name": "ProgressView",
            "bar_style": "success",
            "description": "",
            "description_tooltip": null,
            "layout": "IPY_MODEL_75202b1a1ec5497db9e73ca60928adfe",
            "max": 61,
            "min": 0,
            "orientation": "horizontal",
            "style": "IPY_MODEL_9ce9a358af844f039c5e307bff6ee0ce",
            "value": 61
          }
        },
        "da374bafa1614910b4470f6203a667a4": {
          "model_module": "@jupyter-widgets/controls",
          "model_name": "HTMLModel",
          "model_module_version": "1.5.0",
          "state": {
            "_dom_classes": [],
            "_model_module": "@jupyter-widgets/controls",
            "_model_module_version": "1.5.0",
            "_model_name": "HTMLModel",
            "_view_count": null,
            "_view_module": "@jupyter-widgets/controls",
            "_view_module_version": "1.5.0",
            "_view_name": "HTMLView",
            "description": "",
            "description_tooltip": null,
            "layout": "IPY_MODEL_a285ca4e5a3a4a97acaf941e672073cd",
            "placeholder": "​",
            "style": "IPY_MODEL_fea0d1f8dfd344518c8bc1e065cddaa4",
            "value": " 61/61 [00:00&lt;00:00, 79.30it/s]"
          }
        },
        "ba9153b417554cd6bdddc0434da9cb58": {
          "model_module": "@jupyter-widgets/base",
          "model_name": "LayoutModel",
          "model_module_version": "1.2.0",
          "state": {
            "_model_module": "@jupyter-widgets/base",
            "_model_module_version": "1.2.0",
            "_model_name": "LayoutModel",
            "_view_count": null,
            "_view_module": "@jupyter-widgets/base",
            "_view_module_version": "1.2.0",
            "_view_name": "LayoutView",
            "align_content": null,
            "align_items": null,
            "align_self": null,
            "border": null,
            "bottom": null,
            "display": null,
            "flex": null,
            "flex_flow": null,
            "grid_area": null,
            "grid_auto_columns": null,
            "grid_auto_flow": null,
            "grid_auto_rows": null,
            "grid_column": null,
            "grid_gap": null,
            "grid_row": null,
            "grid_template_areas": null,
            "grid_template_columns": null,
            "grid_template_rows": null,
            "height": null,
            "justify_content": null,
            "justify_items": null,
            "left": null,
            "margin": null,
            "max_height": null,
            "max_width": null,
            "min_height": null,
            "min_width": null,
            "object_fit": null,
            "object_position": null,
            "order": null,
            "overflow": null,
            "overflow_x": null,
            "overflow_y": null,
            "padding": null,
            "right": null,
            "top": null,
            "visibility": null,
            "width": null
          }
        },
        "3b635353d72a49829f265f337bebe455": {
          "model_module": "@jupyter-widgets/base",
          "model_name": "LayoutModel",
          "model_module_version": "1.2.0",
          "state": {
            "_model_module": "@jupyter-widgets/base",
            "_model_module_version": "1.2.0",
            "_model_name": "LayoutModel",
            "_view_count": null,
            "_view_module": "@jupyter-widgets/base",
            "_view_module_version": "1.2.0",
            "_view_name": "LayoutView",
            "align_content": null,
            "align_items": null,
            "align_self": null,
            "border": null,
            "bottom": null,
            "display": null,
            "flex": null,
            "flex_flow": null,
            "grid_area": null,
            "grid_auto_columns": null,
            "grid_auto_flow": null,
            "grid_auto_rows": null,
            "grid_column": null,
            "grid_gap": null,
            "grid_row": null,
            "grid_template_areas": null,
            "grid_template_columns": null,
            "grid_template_rows": null,
            "height": null,
            "justify_content": null,
            "justify_items": null,
            "left": null,
            "margin": null,
            "max_height": null,
            "max_width": null,
            "min_height": null,
            "min_width": null,
            "object_fit": null,
            "object_position": null,
            "order": null,
            "overflow": null,
            "overflow_x": null,
            "overflow_y": null,
            "padding": null,
            "right": null,
            "top": null,
            "visibility": null,
            "width": null
          }
        },
        "ffcabd781d9a46cb8a552945b3b5213d": {
          "model_module": "@jupyter-widgets/controls",
          "model_name": "DescriptionStyleModel",
          "model_module_version": "1.5.0",
          "state": {
            "_model_module": "@jupyter-widgets/controls",
            "_model_module_version": "1.5.0",
            "_model_name": "DescriptionStyleModel",
            "_view_count": null,
            "_view_module": "@jupyter-widgets/base",
            "_view_module_version": "1.2.0",
            "_view_name": "StyleView",
            "description_width": ""
          }
        },
        "75202b1a1ec5497db9e73ca60928adfe": {
          "model_module": "@jupyter-widgets/base",
          "model_name": "LayoutModel",
          "model_module_version": "1.2.0",
          "state": {
            "_model_module": "@jupyter-widgets/base",
            "_model_module_version": "1.2.0",
            "_model_name": "LayoutModel",
            "_view_count": null,
            "_view_module": "@jupyter-widgets/base",
            "_view_module_version": "1.2.0",
            "_view_name": "LayoutView",
            "align_content": null,
            "align_items": null,
            "align_self": null,
            "border": null,
            "bottom": null,
            "display": null,
            "flex": null,
            "flex_flow": null,
            "grid_area": null,
            "grid_auto_columns": null,
            "grid_auto_flow": null,
            "grid_auto_rows": null,
            "grid_column": null,
            "grid_gap": null,
            "grid_row": null,
            "grid_template_areas": null,
            "grid_template_columns": null,
            "grid_template_rows": null,
            "height": null,
            "justify_content": null,
            "justify_items": null,
            "left": null,
            "margin": null,
            "max_height": null,
            "max_width": null,
            "min_height": null,
            "min_width": null,
            "object_fit": null,
            "object_position": null,
            "order": null,
            "overflow": null,
            "overflow_x": null,
            "overflow_y": null,
            "padding": null,
            "right": null,
            "top": null,
            "visibility": null,
            "width": null
          }
        },
        "9ce9a358af844f039c5e307bff6ee0ce": {
          "model_module": "@jupyter-widgets/controls",
          "model_name": "ProgressStyleModel",
          "model_module_version": "1.5.0",
          "state": {
            "_model_module": "@jupyter-widgets/controls",
            "_model_module_version": "1.5.0",
            "_model_name": "ProgressStyleModel",
            "_view_count": null,
            "_view_module": "@jupyter-widgets/base",
            "_view_module_version": "1.2.0",
            "_view_name": "StyleView",
            "bar_color": null,
            "description_width": ""
          }
        },
        "a285ca4e5a3a4a97acaf941e672073cd": {
          "model_module": "@jupyter-widgets/base",
          "model_name": "LayoutModel",
          "model_module_version": "1.2.0",
          "state": {
            "_model_module": "@jupyter-widgets/base",
            "_model_module_version": "1.2.0",
            "_model_name": "LayoutModel",
            "_view_count": null,
            "_view_module": "@jupyter-widgets/base",
            "_view_module_version": "1.2.0",
            "_view_name": "LayoutView",
            "align_content": null,
            "align_items": null,
            "align_self": null,
            "border": null,
            "bottom": null,
            "display": null,
            "flex": null,
            "flex_flow": null,
            "grid_area": null,
            "grid_auto_columns": null,
            "grid_auto_flow": null,
            "grid_auto_rows": null,
            "grid_column": null,
            "grid_gap": null,
            "grid_row": null,
            "grid_template_areas": null,
            "grid_template_columns": null,
            "grid_template_rows": null,
            "height": null,
            "justify_content": null,
            "justify_items": null,
            "left": null,
            "margin": null,
            "max_height": null,
            "max_width": null,
            "min_height": null,
            "min_width": null,
            "object_fit": null,
            "object_position": null,
            "order": null,
            "overflow": null,
            "overflow_x": null,
            "overflow_y": null,
            "padding": null,
            "right": null,
            "top": null,
            "visibility": null,
            "width": null
          }
        },
        "fea0d1f8dfd344518c8bc1e065cddaa4": {
          "model_module": "@jupyter-widgets/controls",
          "model_name": "DescriptionStyleModel",
          "model_module_version": "1.5.0",
          "state": {
            "_model_module": "@jupyter-widgets/controls",
            "_model_module_version": "1.5.0",
            "_model_name": "DescriptionStyleModel",
            "_view_count": null,
            "_view_module": "@jupyter-widgets/base",
            "_view_module_version": "1.2.0",
            "_view_name": "StyleView",
            "description_width": ""
          }
        }
      }
    }
  },
  "cells": [
    {
      "cell_type": "markdown",
      "metadata": {
        "id": "view-in-github",
        "colab_type": "text"
      },
      "source": [
        "<a href=\"https://colab.research.google.com/github/rajaatif/Disease-Data-Collection-from-NCBI-database-with-certain-Traits/blob/main/P_gene_93_44_.ipynb\" target=\"_parent\"><img src=\"https://colab.research.google.com/assets/colab-badge.svg\" alt=\"Open In Colab\"/></a>"
      ]
    },
    {
      "cell_type": "markdown",
      "source": [
        "# Vis"
      ],
      "metadata": {
        "id": "cycgfqOIRnXY"
      }
    },
    {
      "cell_type": "code",
      "source": [
        "\n",
        "\n",
        "import gdown\n",
        "import pandas as pd\n",
        "# Define the Google Drive public link\n",
        "url = 'https://drive.google.com/uc?id=1ISNOfZnPmr6vfcc6HSYhb2ehG_h_bHEB'\n",
        "\n",
        "# Define the file name to save the DataFrame\n",
        "output_file = 'dataset.csv'\n",
        "\n",
        "# Download the file from the Google Drive link\n",
        "gdown.download(url, output_file, quiet=False)"
      ],
      "metadata": {
        "colab": {
          "base_uri": "https://localhost:8080/",
          "height": 108
        },
        "id": "1WTqz6yQejPC",
        "outputId": "a6ddcdf1-48e8-4007-f652-9379d8e70cd2"
      },
      "execution_count": null,
      "outputs": [
        {
          "output_type": "stream",
          "name": "stderr",
          "text": [
            "Downloading...\n",
            "From: https://drive.google.com/uc?id=1ISNOfZnPmr6vfcc6HSYhb2ehG_h_bHEB\n",
            "To: /content/dataset.csv\n",
            "100%|██████████| 26.9M/26.9M [00:00<00:00, 78.1MB/s]\n"
          ]
        },
        {
          "output_type": "execute_result",
          "data": {
            "text/plain": [
              "'dataset.csv'"
            ],
            "application/vnd.google.colaboratory.intrinsic+json": {
              "type": "string"
            }
          },
          "metadata": {},
          "execution_count": 1
        }
      ]
    },
    {
      "cell_type": "code",
      "source": [
        "import pandas as pd\n",
        "df2=pd.read_csv(\"/content/dataset.csv\")\n",
        "# Create a boolean mask for rows where 'Disease' is 'HCC'\n",
        "nhcc_mask = df2['Disease'] != 'HCC'\n",
        "#.sample(3000,random_state=42)\n",
        "# Apply drop_duplicates only to the subset of rows with 'HCC'\n",
        "df2 =   pd.concat([df2[~nhcc_mask], df2[nhcc_mask].drop_duplicates(subset=['seq'], keep='first')], ignore_index=True).reset_index(drop=True).drop_duplicates('seq')"
      ],
      "metadata": {
        "id": "HouWlFt63CEm"
      },
      "execution_count": null,
      "outputs": []
    },
    {
      "cell_type": "code",
      "source": [
        "# df2=df2.loc[df2['simulated_gene'] !=1]"
      ],
      "metadata": {
        "id": "UJm6xGZjWs3c"
      },
      "execution_count": null,
      "outputs": []
    },
    {
      "cell_type": "code",
      "source": [
        "df2=df2.loc[df2['Vrius_Gene'] =='P']"
      ],
      "metadata": {
        "id": "IDg5ZceXdaMl"
      },
      "execution_count": null,
      "outputs": []
    },
    {
      "cell_type": "code",
      "source": [
        "len(df2)"
      ],
      "metadata": {
        "colab": {
          "base_uri": "https://localhost:8080/"
        },
        "id": "81TLlGz5WwnX",
        "outputId": "b076c1ac-a445-4080-a36b-c6f73c923de7"
      },
      "execution_count": null,
      "outputs": [
        {
          "output_type": "execute_result",
          "data": {
            "text/plain": [
              "1307"
            ]
          },
          "metadata": {},
          "execution_count": 9
        }
      ]
    },
    {
      "cell_type": "code",
      "source": [
        "df2['simulated_gene'].value_counts()"
      ],
      "metadata": {
        "colab": {
          "base_uri": "https://localhost:8080/",
          "height": 178
        },
        "id": "0oiLp-mmWab6",
        "outputId": "5441492a-4135-4d0a-cae7-57f3b69b5902"
      },
      "execution_count": null,
      "outputs": [
        {
          "output_type": "execute_result",
          "data": {
            "text/plain": [
              "simulated_gene\n",
              "0.0    880\n",
              "1.0    427\n",
              "Name: count, dtype: int64"
            ],
            "text/html": [
              "<div>\n",
              "<style scoped>\n",
              "    .dataframe tbody tr th:only-of-type {\n",
              "        vertical-align: middle;\n",
              "    }\n",
              "\n",
              "    .dataframe tbody tr th {\n",
              "        vertical-align: top;\n",
              "    }\n",
              "\n",
              "    .dataframe thead th {\n",
              "        text-align: right;\n",
              "    }\n",
              "</style>\n",
              "<table border=\"1\" class=\"dataframe\">\n",
              "  <thead>\n",
              "    <tr style=\"text-align: right;\">\n",
              "      <th></th>\n",
              "      <th>count</th>\n",
              "    </tr>\n",
              "    <tr>\n",
              "      <th>simulated_gene</th>\n",
              "      <th></th>\n",
              "    </tr>\n",
              "  </thead>\n",
              "  <tbody>\n",
              "    <tr>\n",
              "      <th>0.0</th>\n",
              "      <td>880</td>\n",
              "    </tr>\n",
              "    <tr>\n",
              "      <th>1.0</th>\n",
              "      <td>427</td>\n",
              "    </tr>\n",
              "  </tbody>\n",
              "</table>\n",
              "</div><br><label><b>dtype:</b> int64</label>"
            ]
          },
          "metadata": {},
          "execution_count": 10
        }
      ]
    },
    {
      "cell_type": "code",
      "source": [
        "df2['synthetic'].value_counts()"
      ],
      "metadata": {
        "colab": {
          "base_uri": "https://localhost:8080/",
          "height": 178
        },
        "id": "phE4U_DlW4LV",
        "outputId": "481f2e5e-6285-45c9-9457-23c4ca3845c8"
      },
      "execution_count": null,
      "outputs": [
        {
          "output_type": "execute_result",
          "data": {
            "text/plain": [
              "synthetic\n",
              "0    1304\n",
              "1       3\n",
              "Name: count, dtype: int64"
            ],
            "text/html": [
              "<div>\n",
              "<style scoped>\n",
              "    .dataframe tbody tr th:only-of-type {\n",
              "        vertical-align: middle;\n",
              "    }\n",
              "\n",
              "    .dataframe tbody tr th {\n",
              "        vertical-align: top;\n",
              "    }\n",
              "\n",
              "    .dataframe thead th {\n",
              "        text-align: right;\n",
              "    }\n",
              "</style>\n",
              "<table border=\"1\" class=\"dataframe\">\n",
              "  <thead>\n",
              "    <tr style=\"text-align: right;\">\n",
              "      <th></th>\n",
              "      <th>count</th>\n",
              "    </tr>\n",
              "    <tr>\n",
              "      <th>synthetic</th>\n",
              "      <th></th>\n",
              "    </tr>\n",
              "  </thead>\n",
              "  <tbody>\n",
              "    <tr>\n",
              "      <th>0</th>\n",
              "      <td>1304</td>\n",
              "    </tr>\n",
              "    <tr>\n",
              "      <th>1</th>\n",
              "      <td>3</td>\n",
              "    </tr>\n",
              "  </tbody>\n",
              "</table>\n",
              "</div><br><label><b>dtype:</b> int64</label>"
            ]
          },
          "metadata": {},
          "execution_count": 11
        }
      ]
    },
    {
      "cell_type": "code",
      "source": [
        "df2=df2.loc[df2['synthetic'] !=1]"
      ],
      "metadata": {
        "id": "ucvzHAsIXGrh"
      },
      "execution_count": null,
      "outputs": []
    },
    {
      "cell_type": "code",
      "source": [
        "len(df2)"
      ],
      "metadata": {
        "colab": {
          "base_uri": "https://localhost:8080/"
        },
        "id": "ClmD6AMeXMVP",
        "outputId": "bd72dc49-4e2f-408d-8fd7-d4c83f6a59c5"
      },
      "execution_count": null,
      "outputs": [
        {
          "output_type": "execute_result",
          "data": {
            "text/plain": [
              "5180"
            ]
          },
          "metadata": {},
          "execution_count": 20
        }
      ]
    },
    {
      "cell_type": "code",
      "source": [
        "df2.loc[df2['Disease'] == 'HCC', 'labels'] = 1\n",
        "df2.loc[df2['Disease'] != 'HCC', 'labels'] = 0\n"
      ],
      "metadata": {
        "id": "Qsdo2moAfGsb"
      },
      "execution_count": null,
      "outputs": []
    },
    {
      "cell_type": "code",
      "source": [
        "df2=df2.loc[~df2['Disease'].isin(['occult HBV infection','acute-on-chronic liver failure','chronic HBV infection','chronic hepatitis B', 'chronic liver inflammation','liver cirrhosis','HBV-HIV coinfection'])]"
      ],
      "metadata": {
        "id": "zUyXMWjv_Pir"
      },
      "execution_count": null,
      "outputs": []
    },
    {
      "cell_type": "code",
      "source": [
        "# df2=df2.loc[df2['simulated_gene'] !=1]"
      ],
      "metadata": {
        "id": "DxGs7nyWLBTU"
      },
      "execution_count": null,
      "outputs": []
    },
    {
      "cell_type": "code",
      "source": [
        "df2.columns"
      ],
      "metadata": {
        "colab": {
          "base_uri": "https://localhost:8080/"
        },
        "id": "BN2hrmXFLEji",
        "outputId": "8afaefee-d43d-4d9c-e8c4-58890d93564f"
      },
      "execution_count": null,
      "outputs": [
        {
          "output_type": "execute_result",
          "data": {
            "text/plain": [
              "Index(['Unnamed: 0.1', 'Unnamed: 0', 'Sequence', 'Sequence_description',\n",
              "       'Virus_genotype', 'Isolation_source', 'Disease', 'Vrius_Gene', 'seq',\n",
              "       'uncovered_reg', 'simulated_gene', 'length', 'AA', 'AT', 'AC', 'AG',\n",
              "       'TA', 'TT', 'TC', 'TG', 'CA', 'CT', 'CC', 'CG', 'GA', 'GT', 'GC', 'GG',\n",
              "       'synthetic', 'Cluster', 'Cluster2', 'labels'],\n",
              "      dtype='object')"
            ]
          },
          "metadata": {},
          "execution_count": 147
        }
      ]
    },
    {
      "cell_type": "code",
      "source": [
        "df2['Disease'].value_counts()"
      ],
      "metadata": {
        "colab": {
          "base_uri": "https://localhost:8080/",
          "height": 209
        },
        "id": "xnkePBdehXey",
        "outputId": "58978dda-de5a-4776-f665-f579cf14dc98"
      },
      "execution_count": null,
      "outputs": [
        {
          "output_type": "execute_result",
          "data": {
            "text/plain": [
              "Disease\n",
              "HBV-infection patients    629\n",
              "HCC                       584\n",
              "acute hepatitis B           5\n",
              "Name: count, dtype: int64"
            ],
            "text/html": [
              "<div>\n",
              "<style scoped>\n",
              "    .dataframe tbody tr th:only-of-type {\n",
              "        vertical-align: middle;\n",
              "    }\n",
              "\n",
              "    .dataframe tbody tr th {\n",
              "        vertical-align: top;\n",
              "    }\n",
              "\n",
              "    .dataframe thead th {\n",
              "        text-align: right;\n",
              "    }\n",
              "</style>\n",
              "<table border=\"1\" class=\"dataframe\">\n",
              "  <thead>\n",
              "    <tr style=\"text-align: right;\">\n",
              "      <th></th>\n",
              "      <th>count</th>\n",
              "    </tr>\n",
              "    <tr>\n",
              "      <th>Disease</th>\n",
              "      <th></th>\n",
              "    </tr>\n",
              "  </thead>\n",
              "  <tbody>\n",
              "    <tr>\n",
              "      <th>HBV-infection patients</th>\n",
              "      <td>629</td>\n",
              "    </tr>\n",
              "    <tr>\n",
              "      <th>HCC</th>\n",
              "      <td>584</td>\n",
              "    </tr>\n",
              "    <tr>\n",
              "      <th>acute hepatitis B</th>\n",
              "      <td>5</td>\n",
              "    </tr>\n",
              "  </tbody>\n",
              "</table>\n",
              "</div><br><label><b>dtype:</b> int64</label>"
            ]
          },
          "metadata": {},
          "execution_count": 15
        }
      ]
    },
    {
      "cell_type": "markdown",
      "source": [
        "# DCR"
      ],
      "metadata": {
        "id": "_kB2vEw3y67x"
      }
    },
    {
      "cell_type": "markdown",
      "source": [
        "# Set Env"
      ],
      "metadata": {
        "id": "2Bi03KoM77ts"
      }
    },
    {
      "cell_type": "code",
      "source": [
        "from sklearn.cluster import KMeans\n",
        "import pandas as pd\n",
        "from scipy.spatial.distance import cdist\n",
        "import numpy as np\n",
        "\n",
        "import numpy as np\n",
        "import pandas as pd\n",
        "import tensorflow as tf\n",
        "from tensorflow.keras.models import Model\n",
        "from tensorflow.keras.layers import Dense, Input\n",
        "from tensorflow.keras.optimizers import Adam\n",
        "from scipy.spatial.distance import cdist\n",
        "import torch\n",
        "import numpy as np\n",
        "import matplotlib.pyplot as plt\n",
        "import seaborn as sns\n",
        "from sklearn.metrics import confusion_matrix\n",
        "import os\n",
        "import glob\n",
        "import pandas as pd\n",
        "\n",
        "from torch.utils.data import TensorDataset, DataLoader, RandomSampler, SequentialSampler\n",
        "#import torch\n",
        "import numpy as np\n",
        "\n",
        "import torch\n",
        "from torch.utils.data import Dataset, DataLoader, BatchSampler, RandomSampler\n",
        "import random\n",
        "\n",
        "from sklearn.model_selection import train_test_split\n",
        "\n",
        "import torch\n",
        "import torch.nn as nn\n",
        "from transformers import BertModel\n",
        "\n",
        "from transformers import AdamW, get_linear_schedule_with_warmup\n",
        "\n",
        "\n",
        "import random\n",
        "import time\n",
        "import torch.nn as nn\n",
        "\n",
        "from transformers import AdamW, get_linear_schedule_with_warmup\n",
        "\n",
        "import numpy as np\n",
        "import torch\n",
        "import torch.nn as nn\n",
        "from transformers import AdamW, get_linear_schedule_with_warmup\n",
        "#device='cuda'\n",
        "\n",
        "import random\n",
        "import time\n",
        "import torch.nn as nn\n",
        "\n",
        "import torch\n",
        "import torch.nn as nn\n",
        "from transformers import BertModel\n",
        "\n",
        "import sys\n",
        "import time\n",
        "import traceback\n",
        "import numpy as np\n",
        "import pandas as pd\n",
        "from sklearn.preprocessing import LabelEncoder\n",
        "import os\n",
        "from tqdm.auto import tqdm\n",
        "import warnings\n",
        "\n",
        "warnings.filterwarnings(\"ignore\")\n",
        "\n",
        "# os.system(\"cls\")\n",
        "\n",
        "import warnings\n",
        "warnings.filterwarnings(\"ignore\")\n",
        "\n",
        "class ConvertDNALabelEncoder(object):\n",
        "    \"\"\"\n",
        "        convert dna sequence string csv file to dna label encoder csv file and viceverse\n",
        "    \"\"\"\n",
        "    def __init__(self):\n",
        "        pass\n",
        "\n",
        "    @staticmethod\n",
        "    def convert_dna_string_to_dna_labelencoder(dna_string_csv_path, dna_labelencoder_csv_path):\n",
        "        \"\"\"\n",
        "            convert dna sequence string csv file to dna label encoder csv file\n",
        "        args:\n",
        "            dna_string_csv_path (string): dna string csv file path\n",
        "            dna_labelencoder_csv_path (string): dna label encoder csv file path\n",
        "        returns:\n",
        "            none\n",
        "        \"\"\"\n",
        "        try:\n",
        "            df_dna_string = pd.read_csv(filepath_or_buffer=dna_string_csv_path) # .iloc[:10,:]\n",
        "            #print(len(df_dna_string))\n",
        "            label_encoder = LabelEncoder()\n",
        "            #label_encoder.classes_=['A','C','G','T']\n",
        "            dna_string_list = []\n",
        "            for row in tqdm(range(len(df_dna_string))):\n",
        "                #print(row[3])\n",
        "                dna_string_row = df_dna_string['seq'][row] #.replace('M','') #.Sequence\n",
        "                dna_string_row = ''.join(filter(lambda x: x in 'ATCG', dna_string_row))\n",
        "                #print(dna_string_row)\n",
        "                dna_string_nparray = np.array(list(dna_string_row))\n",
        "                sample=['A','T','C','G','N']\n",
        "                #print(dna_string_nparray)\n",
        "                label_encoder.fit(sample)\n",
        "                dna_labelencoder_row = label_encoder.transform(dna_string_nparray)\n",
        "                dna_string_list.append(dna_labelencoder_row.astype(np.int8))\n",
        "            #df_dna_labelencoder = pd.DataFrame(dna_string_list)\n",
        "            #df_dna_labelencoder.to_csv(path_or_buf=dna_labelencoder_csv_path, index=False, header=None)\n",
        "            return dna_string_list, df_dna_string['labels'],df_dna_string\n",
        "        except:\n",
        "            print(\"An error occurred. {}\".format(ConvertDNALabelEncoder.get_exception_stack_trace()))\n",
        "            return \"nothing\"\n",
        "\n",
        "    @staticmethod\n",
        "    def convert_dna_labelencoder_to_dna_string(dna_labelencoder_csv_path, dna_string_csv_path):\n",
        "        \"\"\"\n",
        "            convert dna sequence label encoder csv file to dna string csv file\n",
        "        args:\n",
        "            dna_labelencoder_csv_path (string): dna label encoder csv file path\n",
        "            dna_string_csv_path (string): dna string csv file path\n",
        "        \"\"\"\n",
        "        try:\n",
        "            df_dna_labelencoder = pd.read_csv(filepath_or_buffer=dna_labelencoder_csv_path, header=None)\n",
        "            dna_labelencoder_list = df_dna_labelencoder.values.tolist()\n",
        "            dna_string_list = []\n",
        "            for item in dna_labelencoder_list:\n",
        "                dna_string = \"\"\n",
        "                for column in item:\n",
        "                    if column == 0:\n",
        "                        nucleotide_letter = \"A\"\n",
        "                    elif column == 1:\n",
        "                        nucleotide_letter = \"C\"\n",
        "                    elif column == 2:\n",
        "                        nucleotide_letter = \"G\"\n",
        "                    elif column == 3:\n",
        "                        nucleotide_letter = \"T\"\n",
        "                    dna_string += nucleotide_letter\n",
        "                dna_string_list.append(dna_string)\n",
        "            df_dna_string = pd.DataFrame(dna_string_list)\n",
        "            df_dna_string.to_csv(path_or_buf=dna_string_csv_path, index=False, header=None)\n",
        "        except:\n",
        "            print(\"An error occurred. {}\".format(ConvertDNALabelEncoder.get_exception_stack_trace()))\n",
        "\n",
        "    @staticmethod\n",
        "    def get_exception_stack_trace():\n",
        "        \"\"\"\n",
        "            get exception stack trace\n",
        "        args:\n",
        "            none\n",
        "        returns:\n",
        "            exception_stack_trace (string): exception stack trace parameters\n",
        "        \"\"\"\n",
        "        try:\n",
        "            exception_type, exception_value, exception_traceback = sys.exc_info()\n",
        "            file_name, line_number, procedure_name, line_code = traceback.extract_tb(exception_traceback)[-1]\n",
        "            exception_stack_trace = ''.join('[Time Stamp]: ' + str(time.strftime('%d-%m-%Y %I:%M:%S %p')) + '' + '[File Name]: ' + str(file_name) + ' '\n",
        "            + '[Procedure Name]: ' + str(procedure_name) + ' '\n",
        "            + '[Error Message]: ' + str(exception_value) + ' '\n",
        "            + '[Error Type]: ' + str(exception_type) + ' '\n",
        "            + '[Line Number]: ' + str(line_number) + ' '\n",
        "            + '[Line Code]: ' + str(line_code))\n",
        "        except:\n",
        "            print(\"An error occurred in {}\".format(\"get_exception_stack_trace() function\"))\n",
        "        return exception_stack_trace\n",
        "\n",
        "    @staticmethod\n",
        "    def get_program_running(start_time):\n",
        "        \"\"\"\n",
        "            calculate program running\n",
        "        args:\n",
        "            start_time (string): start time program runtime\n",
        "        returns:\n",
        "            none\n",
        "        \"\"\"\n",
        "        try:\n",
        "            end_time = time.time()\n",
        "            diff_time = end_time - start_time\n",
        "            result = time.strftime(\"%H:%M:%S\", time.gmtime(diff_time))\n",
        "            print(\"program runtime: {}\".format(result))\n",
        "        except:\n",
        "            print(\"An error occurred. {}\".format(ConvertDNALabelEncoder.get_exception_stack_trace()))\n",
        "import pandas as pd\n",
        "def generate_dataset(df3,test=False):\n",
        "    #df=df3\n",
        "    if(test==False):\n",
        "        temp_df=df3\n",
        "        temp_df['seq'] = temp_df['seq'].astype('str')\n",
        "        # mask = temp_df['seq'].str.len() <= 60000\n",
        "        # temp_df = temp_df.loc[mask]\n",
        "        temp_df.to_csv(\"data.csv\")\n",
        "        convertDNALabelEncoder=ConvertDNALabelEncoder()\n",
        "        dna_string_csv_path = \"./data.csv\"\n",
        "        dna_labelencoder_csv_path = \"./num_complete.csv\"\n",
        "        df_dna_labelencoder,y,org=convertDNALabelEncoder.convert_dna_string_to_dna_labelencoder(dna_string_csv_path, dna_labelencoder_csv_path)\n",
        "        return df_dna_labelencoder,y,org\n",
        "    elif(test==True):\n",
        "        temp_df=df\n",
        "        temp_df['seq'] = temp_df['seq'].astype('str')\n",
        "        # mask = temp_df['seq'].str.len() >= 60000\n",
        "        # temp_df = temp_df.loc[mask]\n",
        "        temp_df.to_csv(\"data.csv\")\n",
        "        convertDNALabelEncoder=ConvertDNALabelEncoder()\n",
        "        dna_string_csv_path = \"./data.csv\"\n",
        "        dna_labelencoder_csv_path = \"./num_complete.csv\"\n",
        "        df_dna_labelencoder,y=convertDNALabelEncoder.convert_dna_string_to_dna_labelencoder(dna_string_csv_path, dna_labelencoder_csv_path)\n",
        "        return df_dna_labelencoder,y\n",
        "class MyDataset(Dataset):\n",
        "    def __init__(self, X, y):\n",
        "        self.X = X\n",
        "        self.y = y\n",
        "\n",
        "    def __getitem__(self, idx):\n",
        "        x = self.X[idx]\n",
        "        x = np.array(x)\n",
        "        #x = x[:8000]  # Truncate the array to the first 5000 elements\n",
        "        #x = np.pad(x, (0, 8000 - len(x)), mode='constant', constant_values=7)  # Pad the array with zeros to a length of 5000\n",
        "        return x, self.y[idx]\n",
        "\n",
        "    def __len__(self):\n",
        "        return len(self.X)\n",
        "\n",
        "# Create the BertClassfier class\n",
        "class PretrainedBert(nn.Module):\n",
        "    def __init__(self,output_nodes, freeze_bert=False):\n",
        "\n",
        "        super(PretrainedBert, self).__init__()\n",
        "        # Specify hidden size of BERT, hidden size of our classifier, and number of labels\n",
        "        D_in, H, D_out = 512, 64, output_nodes\n",
        "        # Instantiate BERT model\n",
        "        from transformers import BertConfig\n",
        "\n",
        "        self.config = BertConfig(\n",
        "          # we align this to the tokenizer vocab_size\n",
        "        max_position_embeddings=255,\n",
        "        hidden_size=512,\n",
        "        num_attention_heads=16,\n",
        "        num_hidden_layers=2,\n",
        "        type_vocab_size=1,\n",
        "        intermediate_size=1024,\n",
        "        vocab_size=16\n",
        ")\n",
        "        from transformers import BertForMaskedLM\n",
        "\n",
        "        self.bert =BertModel(self.config)\n",
        "        # Instantiate an one-layer feed-forward classifier\n",
        "        self.classifier = nn.Sequential(\n",
        "            #nn.ReLU(),\n",
        "            #nn.Dropout(0.2),\n",
        "            nn.Linear(D_in, H),\n",
        "            # nn.Linear(D_in, H),\n",
        "            nn.ReLU(),\n",
        "            #nn.Dropout(0.005),\n",
        "            nn.Linear(H, D_out),\n",
        "            #nn.Sigmoid()\n",
        "        )\n",
        "\n",
        "        # Freeze the BERT model\n",
        "        if freeze_bert:\n",
        "            for param in self.bert.parameters():\n",
        "                param.requires_grad = False\n",
        "\n",
        "    def forward(self, input_ids, attention_mask):\n",
        "        # Feed input to BERT\n",
        "        outputs = self.bert(input_ids=input_ids,\n",
        "                            attention_mask=attention_mask)\n",
        "\n",
        "        # Extract the last hidden state of the token `[CLS]` for classification task\n",
        "        last_hidden_state_cls = outputs[0][:, 0, :]\n",
        "\n",
        "        # Feed input to classifier to compute logits\n",
        "        logits = self.classifier(last_hidden_state_cls)\n",
        "\n",
        "        return logits\n",
        "from transformers import AdamW, get_linear_schedule_with_warmup\n",
        "\n",
        "def initialize_pretrainedBert(train_dataloader,virus_dir,output_nodes,epochs=4):\n",
        "    # Instantiate Bert Classifier\n",
        "    bert_classifier = PretrainedBert(output_nodes,freeze_bert=False)\n",
        "\n",
        "    # Tell PyTorch to run the model on GPU\n",
        "    #bert_classifier.to(device)\n",
        "\n",
        "    # Create the optimizer\n",
        "    optimizer = AdamW(bert_classifier.parameters(), #,\n",
        "                      lr=5e-5,    # Default learning rate\n",
        "                      eps=1e-8    # Default epsilon value\n",
        "                      )\n",
        "\n",
        "    # Total number of training steps\n",
        "    total_steps = len(train_dataloader) * epochs #\n",
        "\n",
        "    # Set up the learning rate scheduler\n",
        "    scheduler = get_linear_schedule_with_warmup(optimizer,\n",
        "                                                num_warmup_steps=0, # Default value\n",
        "                                                num_training_steps=total_steps)\n",
        "    return bert_classifier, optimizer, scheduler\n",
        "import torch\n",
        "import torch.nn as nn\n",
        "from transformers import AdamW, get_linear_schedule_with_warmup\n",
        "from transformers import XLNetModel, XLNetConfig\n",
        "import torch\n",
        "import torch.nn as nn\n",
        "from transformers import BertModel\n",
        "\n",
        "class FinetunningBertXLNet7(nn.Module):\n",
        "    \"\"\"BERT Model for Classification Tasks.\"\"\"\n",
        "    def __init__(self, virus_dir, output_nodes, layers, freeze_bert=False):\n",
        "        super(FinetunningBertXLNet7, self).__init__()\n",
        "\n",
        "        # Load your pre-trained BERT model\n",
        "        bert_classifier = PretrainedBert(2, freeze_bert=freeze_bert)  # Replace with actual model loading code\n",
        "        bert_classifier.load_state_dict(torch.load(virus_dir + './epoch17.pt', map_location=torch.device(device)))\n",
        "        self.bert = bert_classifier.bert\n",
        "\n",
        "        if freeze_bert:\n",
        "            print(\"Freezed\")\n",
        "            for param in self.bert.parameters():\n",
        "                param.requires_grad = False\n",
        "\n",
        "        # Classifier layer (The output size after BERT's last hidden state)\n",
        "        self.classifier = nn.Linear(512, output_nodes)\n",
        "\n",
        "    def forward(self, input_ids, attention_mask):\n",
        "        # Get BERT outputs\n",
        "        outputs = self.bert(input_ids=input_ids, attention_mask=attention_mask)\n",
        "        last_hidden_state = outputs.last_hidden_state[:, 0, :]  # Shape: [batch_size, seq_length, hidden_size]\n",
        "       # print(last_hidden_state.shape)\n",
        "\n",
        "        # Apply Global Average Pooling (GAP) to handle variable sequence lengths\n",
        "        pooled_output = last_hidden_state.mean(dim=0).view(1,-1)  # Shape: [batch_size, hidden_size]\n",
        "       # print(pooled_output.shape)\n",
        "\n",
        "        # Pass the pooled output through the classifier\n",
        "        logits = self.classifier(pooled_output)  # Shape: [batch_size, output_nodes]\n",
        "\n",
        "        return logits\n",
        "\n",
        "\n",
        "import torch\n",
        "import torch.nn as nn\n",
        "from transformers import BertModel\n",
        "\n",
        "\n",
        "\n",
        "\n",
        "def initialize_FinetunningBertXLNet7(train_dataloader,virus_dir,output_nodes,layers,freeze_bert,epochs=4):\n",
        "    \"\"\"Initialize the Bert Classifier, the optimizer and the learning rate scheduler.\n",
        "    \"\"\"\n",
        "    # Instantiate Bert Classifier\n",
        "    bert_classifier = FinetunningBertXLNet7(virus_dir,output_nodes,layers,freeze_bert=freeze_bert)\n",
        "\n",
        "    # Tell PyTorch to run the model on GPU\n",
        "    bert_classifier.to(device)\n",
        "\n",
        "    # Create the optimizer\n",
        "    optimizer = AdamW(bert_classifier.parameters(),\n",
        "                      lr=5e-5,    # Default learning rate\n",
        "                      eps=1e-8    # Default epsilon value\n",
        "                      )\n",
        "\n",
        "    # Total number of training steps\n",
        "    total_steps = len(train_dataloader) * epochs\n",
        "\n",
        "    # Set up the learning rate scheduler\n",
        "    scheduler = get_linear_schedule_with_warmup(optimizer,\n",
        "                                                num_warmup_steps=0, # Default value\n",
        "                                                num_training_steps=total_steps)\n",
        "    return bert_classifier, optimizer, scheduler\n"
      ],
      "metadata": {
        "id": "49IhjIAF2DHR"
      },
      "execution_count": null,
      "outputs": []
    },
    {
      "cell_type": "code",
      "source": [
        "import pandas as pd\n",
        "from collections import Counter\n",
        "\n",
        "# Sample DataFrame with sequences\n",
        "# df = pd.DataFrame({'seq': ['ATGCGATCGA', 'CGATCGTACG', 'ATATCGCGAT']})\n",
        "\n",
        "# Function to calculate DCR for a given sequence\n",
        "def calculate_dcr(sequence):\n",
        "    # Define all possible dinucleotides\n",
        "    dinucleotides = [a + b for a in \"ATCG\" for b in \"ATCG\"]\n",
        "\n",
        "    # Initialize counts for each dinucleotide\n",
        "    dnt_counts = dict.fromkeys(dinucleotides, 0)\n",
        "\n",
        "    # Count dinucleotide occurrences in the sequence\n",
        "    for i in range(len(sequence) - 1):\n",
        "        dnt = sequence[i:i+2]  # Get the dinucleotide\n",
        "        if dnt in dnt_counts:\n",
        "            dnt_counts[dnt] += 1\n",
        "\n",
        "    # Total number of dinucleotides (length - 1) to normalize the counts\n",
        "    total_dnts = sum(dnt_counts.values())\n",
        "\n",
        "    # Normalize to get frequency\n",
        "    if total_dnts > 0:\n",
        "        dcr = {dnt: count / total_dnts for dnt, count in dnt_counts.items()}\n",
        "    else:\n",
        "        # Handle case where there are no valid dinucleotides\n",
        "        dcr = {dnt: 0 for dnt in dinucleotides}\n",
        "\n",
        "    return dcr\n",
        "\n",
        "\n",
        "\n",
        "def validate_model(model, val_loader):\n",
        "    loss_fun = nn.CrossEntropyLoss()\n",
        "    model.eval()\n",
        "    total_val_loss=0\n",
        "    all_preds = []\n",
        "    true_labels=[]\n",
        "    all_labels = []\n",
        "    total_loss, batch_loss, batch_counts = 0, 0, 0\n",
        "\n",
        "    for step, batch in enumerate(val_loader):\n",
        "        batch_counts += 1\n",
        "\n",
        "        x, y_ = batch\n",
        "\n",
        "        true_labels.append(int(y_[0]))\n",
        "\n",
        "        # Divide each sequence in the batch into non-overlapping chunks\n",
        "        batch_chunks, batch_masks, labels = [], [], []\n",
        "\n",
        "        # if len(x[0][:int(len(x[0]) / 250) * 250]) != 0:\n",
        "        #     print(1)\n",
        "        #     chunk, mask = non_overlapping_sliding_window(x[0][:int(len(x[0]) / 250) * 250], 250, 250)\n",
        "        # if len(x[0][:int(len(x[0]) / 250) * 250]) == 0 and len(x[0]) < 250:\n",
        "        #     print(2)\n",
        "        #     chunk, mask = non_overlapping_sliding_window(x[0][:], 250, 250)\n",
        "        if len(x[0][:]) != 0 and len(x[0][:]) <= 30000:\n",
        "            chunk, mask = non_overlapping_sliding_window(x[0][:], 250, 250)\n",
        "        if len(x[0][:int(len(x[0]) / 250) * 250]) == 0 and len(x[0]) < 250:\n",
        "            chunk, mask = non_overlapping_sliding_window(x[0][:], 250, 250)\n",
        "\n",
        "        batch_chunks.extend(chunk)\n",
        "\n",
        "\n",
        "        batch_chunks = torch.stack([torch.tensor(batch_chunk) for batch_chunk in batch_chunks])\n",
        "        batch_masks.extend(mask)\n",
        "        batch_masks = torch.stack(batch_masks)\n",
        "\n",
        "        y_ = A.transform(np.array(y_[0]).reshape(1, -1))\n",
        "        labels.append(y_)\n",
        "\n",
        "        batch_chunks = torch.tensor(batch_chunks)\n",
        "        batch_masks = torch.tensor(batch_masks)\n",
        "\n",
        "        batch_masks_ = np.insert(batch_masks.numpy(), 0, 1, axis=1)\n",
        "        batch_masks_ = np.insert(batch_masks_, -1, 1, axis=1)\n",
        "\n",
        "        batch_masks = torch.tensor(batch_masks_)\n",
        "        batch_masks = torch.where(batch_masks == True, torch.ones_like(batch_masks, dtype=torch.int),\n",
        "                                    torch.zeros_like(batch_masks, dtype=torch.int)).to(device)\n",
        "\n",
        "        batch_inputs_ = np.insert(batch_chunks.numpy(), 0, 12, axis=1)\n",
        "        batch_inputs_ = np.insert(batch_inputs_, 251, 13, axis=1)\n",
        "\n",
        "        labels = torch.tensor(labels).to(device)\n",
        "        batch_inputs = torch.tensor(batch_inputs_).to(device)\n",
        "\n",
        "        new_model.zero_grad()\n",
        "        batch_inputs = torch.tensor(batch_inputs, dtype=torch.long).to(device)  # Long for input_ids\n",
        "        batch_masks = torch.tensor(batch_masks, dtype=torch.long).to(device)  # Long for attention masks\n",
        "\n",
        "        logits = new_model(torch.tensor(batch_inputs, dtype=torch.int64),\n",
        "                            attention_mask=torch.tensor(batch_masks, dtype=torch.int64))\n",
        "        predicted_labels = torch.argmax(torch.tensor(np.sum(np.array(logits.cpu().detach().numpy()),axis=0)), dim=0)\n",
        "        all_preds.append(int(predicted_labels))\n",
        "        #labels = labels[0].repeat(len(batch_inputs), 1)\n",
        "\n",
        "        with torch.autocast('cuda'):\n",
        "            loss = loss_fn(logits, labels[0])\n",
        "        batch_loss += loss.item()\n",
        "        total_loss += loss.item()\n",
        "   # print(all_preds , true_labels)\n",
        "    total_correct=(np.array(all_preds) == np.array(true_labels)).sum().item()  #/len(true_labels)\n",
        "    avg_val_loss = total_loss / len(val_loader)\n",
        "    accuracy = total_correct / len(true_labels) # if total_samples > 0 else 0  # Calculate accuracy\n",
        "\n",
        "    print(f\"Validation Loss: {avg_val_loss:.4f}, Accuracy: {accuracy:.4f}\")\n",
        "\n",
        "    return avg_val_loss, accuracy\n",
        "def non_overlapping_sliding_window(sequence, window_size, stride):\n",
        "    chunks = []\n",
        "    masks = []\n",
        "    for i in range(0, len(sequence), stride):\n",
        "        chunk = sequence[i:i + window_size]\n",
        "        mask = torch.ones(window_size, dtype=torch.bool)\n",
        "        if len(chunk) < window_size:\n",
        "            chunk = tuple(chunk) + (0,) * (window_size - len(chunk))\n",
        "            mask = mask[:len(chunk)]\n",
        "        chunks.append(chunk)\n",
        "        masks.append(mask)\n",
        "  #  print(len(sequence),len(chunks))\n",
        "    return chunks, masks"
      ],
      "metadata": {
        "id": "EuRaJCIB2oF9"
      },
      "execution_count": null,
      "outputs": []
    },
    {
      "cell_type": "markdown",
      "source": [
        "# Training"
      ],
      "metadata": {
        "id": "OW6WwEaMzY9D"
      }
    },
    {
      "cell_type": "code",
      "source": [
        "\n",
        "\n",
        "import gdown\n",
        "import pandas as pd\n",
        "# Define the Google Drive public link\n",
        "url = 'https://drive.google.com/uc?id=1BSmhgZr394cNMyvoij1zCNDcwe0QwAsn'\n",
        "\n",
        "# Define the file name to save the DataFrame\n",
        "output_file = 'epoch17.pt'\n",
        "\n",
        "# Download the file from the Google Drive link\n",
        "gdown.download(url, output_file, quiet=False)"
      ],
      "metadata": {
        "colab": {
          "base_uri": "https://localhost:8080/",
          "height": 108
        },
        "id": "Ju_ohhEhEtbE",
        "outputId": "42b21f54-bcd8-47a7-e2d8-d9a3e2fbbddc"
      },
      "execution_count": null,
      "outputs": [
        {
          "output_type": "stream",
          "name": "stderr",
          "text": [
            "Downloading...\n",
            "From: https://drive.google.com/uc?id=1BSmhgZr394cNMyvoij1zCNDcwe0QwAsn\n",
            "To: /content/epoch17.pt\n",
            "100%|██████████| 18.6M/18.6M [00:00<00:00, 30.5MB/s]\n"
          ]
        },
        {
          "output_type": "execute_result",
          "data": {
            "text/plain": [
              "'epoch17.pt'"
            ],
            "application/vnd.google.colaboratory.intrinsic+json": {
              "type": "string"
            }
          },
          "metadata": {},
          "execution_count": 19
        }
      ]
    },
    {
      "cell_type": "code",
      "source": [
        "\n",
        "\n",
        "import pickle\n",
        "df_dna_labelencoder,y,org=generate_dataset(df2)\n",
        "dictionary={'df_dna_labelencoder':df_dna_labelencoder,'y':y}\n",
        "with open('cancer.pkl', 'wb') as f:\n",
        "    pickle.dump(dictionary, f)\n",
        "from sklearn.model_selection import train_test_split\n",
        "import pickle\n",
        "import warnings\n",
        "\n",
        "warnings.filterwarnings(\"ignore\")\n",
        "with open('./cancer.pkl', 'rb') as pickle_file:\n",
        "    p = pickle.load(pickle_file)\n",
        "import numpy as np\n",
        "X=list(p['df_dna_labelencoder'])\n",
        "y= list(p['y'])\n",
        "X_train, X_test, y_train, y_test, Z_train, Z_test = train_test_split(\n",
        "    X, y, org, test_size=0.05, stratify=y, random_state=42\n",
        ")\n",
        "\n",
        "\n",
        "random.seed(42)\n",
        "\n",
        "\n",
        "traindataset = MyDataset(X_train, y_train)\n",
        "\n",
        "# Create a sampler that will return a single index for each batch\n",
        "trainsampler = RandomSampler(traindataset)\n",
        "\n",
        "# Create a batch sampler that will wrap the sampler and return batches of size 1\n",
        "trainbatch_sampler = BatchSampler(trainsampler, batch_size=1, drop_last=True)\n",
        "\n",
        "# Create a data loader that will use the batch sampler\n",
        "traindata_loader = DataLoader(traindataset, batch_sampler=trainbatch_sampler)\n",
        "\n",
        "testdataset = MyDataset(X_test, y_test)\n",
        "\n",
        "# Create a sampler that will return a single index for each batch\n",
        "testsampler = RandomSampler(testdataset)\n",
        "\n",
        "# Create a batch sampler that will wrap the sampler and return batches of size 1\n",
        "testbatch_sampler = BatchSampler(testsampler, batch_size=1, drop_last=True)\n",
        "\n",
        "# Create a data loader that will use the batch sampler\n",
        "testdata_loader = DataLoader(testdataset)"
      ],
      "metadata": {
        "id": "c5LKTTCUCs8e",
        "colab": {
          "base_uri": "https://localhost:8080/",
          "height": 49,
          "referenced_widgets": [
            "3392ee57992349f9a75c6115998ed852",
            "33cb112bc27d4dae9966de9ce191ef8b",
            "53f491d20f134eaeb16998279a39023d",
            "1f0ddd77097142299461816264b9d699",
            "cd7c1dde00e94358bb6ad74564d0b43e",
            "22569e7e9b01434c91445a4463374ab0",
            "61842a48d6d246d990d8ffed9e707e4c",
            "aab172660fcd47059cb150765a4dfd64",
            "3861d03445a946fcb40752897f50ce6c",
            "330814f83b6b491d98dcbfec57f302cf",
            "e370a200788e417293d02374983f1f0e"
          ]
        },
        "outputId": "d4b13ef0-a61b-4915-d3fb-0455f4ee3268"
      },
      "execution_count": null,
      "outputs": [
        {
          "output_type": "display_data",
          "data": {
            "text/plain": [
              "  0%|          | 0/1218 [00:00<?, ?it/s]"
            ],
            "application/vnd.jupyter.widget-view+json": {
              "version_major": 2,
              "version_minor": 0,
              "model_id": "3392ee57992349f9a75c6115998ed852"
            }
          },
          "metadata": {}
        }
      ]
    },
    {
      "cell_type": "code",
      "source": [
        "Z_test['labels'].value_counts()"
      ],
      "metadata": {
        "colab": {
          "base_uri": "https://localhost:8080/",
          "height": 178
        },
        "id": "dtbGkWflfmJ6",
        "outputId": "c733b759-4fb7-415a-cdbc-e38a044b49c6"
      },
      "execution_count": null,
      "outputs": [
        {
          "output_type": "execute_result",
          "data": {
            "text/plain": [
              "labels\n",
              "0.0    32\n",
              "1.0    29\n",
              "Name: count, dtype: int64"
            ],
            "text/html": [
              "<div>\n",
              "<style scoped>\n",
              "    .dataframe tbody tr th:only-of-type {\n",
              "        vertical-align: middle;\n",
              "    }\n",
              "\n",
              "    .dataframe tbody tr th {\n",
              "        vertical-align: top;\n",
              "    }\n",
              "\n",
              "    .dataframe thead th {\n",
              "        text-align: right;\n",
              "    }\n",
              "</style>\n",
              "<table border=\"1\" class=\"dataframe\">\n",
              "  <thead>\n",
              "    <tr style=\"text-align: right;\">\n",
              "      <th></th>\n",
              "      <th>count</th>\n",
              "    </tr>\n",
              "    <tr>\n",
              "      <th>labels</th>\n",
              "      <th></th>\n",
              "    </tr>\n",
              "  </thead>\n",
              "  <tbody>\n",
              "    <tr>\n",
              "      <th>0.0</th>\n",
              "      <td>32</td>\n",
              "    </tr>\n",
              "    <tr>\n",
              "      <th>1.0</th>\n",
              "      <td>29</td>\n",
              "    </tr>\n",
              "  </tbody>\n",
              "</table>\n",
              "</div><br><label><b>dtype:</b> int64</label>"
            ]
          },
          "metadata": {},
          "execution_count": 21
        }
      ]
    },
    {
      "cell_type": "code",
      "source": [
        "Z_train.loc[Z_train['labels']==0]['Disease'].value_counts()"
      ],
      "metadata": {
        "id": "avQ3Fr-uCxDB",
        "colab": {
          "base_uri": "https://localhost:8080/",
          "height": 178
        },
        "outputId": "d8a306b1-67b7-469d-f299-fa7b5b8db520"
      },
      "execution_count": null,
      "outputs": [
        {
          "output_type": "execute_result",
          "data": {
            "text/plain": [
              "Disease\n",
              "HBV-infection patients    597\n",
              "acute hepatitis B           5\n",
              "Name: count, dtype: int64"
            ],
            "text/html": [
              "<div>\n",
              "<style scoped>\n",
              "    .dataframe tbody tr th:only-of-type {\n",
              "        vertical-align: middle;\n",
              "    }\n",
              "\n",
              "    .dataframe tbody tr th {\n",
              "        vertical-align: top;\n",
              "    }\n",
              "\n",
              "    .dataframe thead th {\n",
              "        text-align: right;\n",
              "    }\n",
              "</style>\n",
              "<table border=\"1\" class=\"dataframe\">\n",
              "  <thead>\n",
              "    <tr style=\"text-align: right;\">\n",
              "      <th></th>\n",
              "      <th>count</th>\n",
              "    </tr>\n",
              "    <tr>\n",
              "      <th>Disease</th>\n",
              "      <th></th>\n",
              "    </tr>\n",
              "  </thead>\n",
              "  <tbody>\n",
              "    <tr>\n",
              "      <th>HBV-infection patients</th>\n",
              "      <td>597</td>\n",
              "    </tr>\n",
              "    <tr>\n",
              "      <th>acute hepatitis B</th>\n",
              "      <td>5</td>\n",
              "    </tr>\n",
              "  </tbody>\n",
              "</table>\n",
              "</div><br><label><b>dtype:</b> int64</label>"
            ]
          },
          "metadata": {},
          "execution_count": 22
        }
      ]
    },
    {
      "cell_type": "code",
      "source": [
        "Z_test.loc[Z_test['labels']==0]['Disease'].value_counts()"
      ],
      "metadata": {
        "id": "C3A7v6usC1iH",
        "colab": {
          "base_uri": "https://localhost:8080/",
          "height": 147
        },
        "outputId": "e131e1f6-ab0d-4927-cc37-146fefa86c23"
      },
      "execution_count": null,
      "outputs": [
        {
          "output_type": "execute_result",
          "data": {
            "text/plain": [
              "Disease\n",
              "HBV-infection patients    32\n",
              "Name: count, dtype: int64"
            ],
            "text/html": [
              "<div>\n",
              "<style scoped>\n",
              "    .dataframe tbody tr th:only-of-type {\n",
              "        vertical-align: middle;\n",
              "    }\n",
              "\n",
              "    .dataframe tbody tr th {\n",
              "        vertical-align: top;\n",
              "    }\n",
              "\n",
              "    .dataframe thead th {\n",
              "        text-align: right;\n",
              "    }\n",
              "</style>\n",
              "<table border=\"1\" class=\"dataframe\">\n",
              "  <thead>\n",
              "    <tr style=\"text-align: right;\">\n",
              "      <th></th>\n",
              "      <th>count</th>\n",
              "    </tr>\n",
              "    <tr>\n",
              "      <th>Disease</th>\n",
              "      <th></th>\n",
              "    </tr>\n",
              "  </thead>\n",
              "  <tbody>\n",
              "    <tr>\n",
              "      <th>HBV-infection patients</th>\n",
              "      <td>32</td>\n",
              "    </tr>\n",
              "  </tbody>\n",
              "</table>\n",
              "</div><br><label><b>dtype:</b> int64</label>"
            ]
          },
          "metadata": {},
          "execution_count": 23
        }
      ]
    },
    {
      "cell_type": "code",
      "source": [
        "Z_train.loc[Z_train['labels']==1]['Disease'].value_counts()"
      ],
      "metadata": {
        "id": "rALqAM7BC5j_",
        "colab": {
          "base_uri": "https://localhost:8080/",
          "height": 147
        },
        "outputId": "c2ae639f-fb27-41de-c67e-004df7a86e2b"
      },
      "execution_count": null,
      "outputs": [
        {
          "output_type": "execute_result",
          "data": {
            "text/plain": [
              "Disease\n",
              "HCC    555\n",
              "Name: count, dtype: int64"
            ],
            "text/html": [
              "<div>\n",
              "<style scoped>\n",
              "    .dataframe tbody tr th:only-of-type {\n",
              "        vertical-align: middle;\n",
              "    }\n",
              "\n",
              "    .dataframe tbody tr th {\n",
              "        vertical-align: top;\n",
              "    }\n",
              "\n",
              "    .dataframe thead th {\n",
              "        text-align: right;\n",
              "    }\n",
              "</style>\n",
              "<table border=\"1\" class=\"dataframe\">\n",
              "  <thead>\n",
              "    <tr style=\"text-align: right;\">\n",
              "      <th></th>\n",
              "      <th>count</th>\n",
              "    </tr>\n",
              "    <tr>\n",
              "      <th>Disease</th>\n",
              "      <th></th>\n",
              "    </tr>\n",
              "  </thead>\n",
              "  <tbody>\n",
              "    <tr>\n",
              "      <th>HCC</th>\n",
              "      <td>555</td>\n",
              "    </tr>\n",
              "  </tbody>\n",
              "</table>\n",
              "</div><br><label><b>dtype:</b> int64</label>"
            ]
          },
          "metadata": {},
          "execution_count": 24
        }
      ]
    },
    {
      "cell_type": "code",
      "source": [
        "Z_test.loc[Z_test['labels']==1]['Disease'].value_counts()"
      ],
      "metadata": {
        "id": "rsjQyGPKC8iB",
        "colab": {
          "base_uri": "https://localhost:8080/",
          "height": 147
        },
        "outputId": "6e2476b4-e88e-46f8-90c4-c251866ee37f"
      },
      "execution_count": null,
      "outputs": [
        {
          "output_type": "execute_result",
          "data": {
            "text/plain": [
              "Disease\n",
              "HCC    29\n",
              "Name: count, dtype: int64"
            ],
            "text/html": [
              "<div>\n",
              "<style scoped>\n",
              "    .dataframe tbody tr th:only-of-type {\n",
              "        vertical-align: middle;\n",
              "    }\n",
              "\n",
              "    .dataframe tbody tr th {\n",
              "        vertical-align: top;\n",
              "    }\n",
              "\n",
              "    .dataframe thead th {\n",
              "        text-align: right;\n",
              "    }\n",
              "</style>\n",
              "<table border=\"1\" class=\"dataframe\">\n",
              "  <thead>\n",
              "    <tr style=\"text-align: right;\">\n",
              "      <th></th>\n",
              "      <th>count</th>\n",
              "    </tr>\n",
              "    <tr>\n",
              "      <th>Disease</th>\n",
              "      <th></th>\n",
              "    </tr>\n",
              "  </thead>\n",
              "  <tbody>\n",
              "    <tr>\n",
              "      <th>HCC</th>\n",
              "      <td>29</td>\n",
              "    </tr>\n",
              "  </tbody>\n",
              "</table>\n",
              "</div><br><label><b>dtype:</b> int64</label>"
            ]
          },
          "metadata": {},
          "execution_count": 25
        }
      ]
    },
    {
      "cell_type": "code",
      "source": [
        "\n",
        "import random\n",
        "import time\n",
        "import torch.nn as nn\n",
        "device='cuda'\n",
        "# Specify loss function\n",
        "loss_fn =  nn.BCEWithLogitsLoss(size_average=True) #\n",
        "new_model, optimizer, scheduler = initialize_FinetunningBertXLNet7(traindata_loader,'',2,2,False,epochs=2)\n",
        "new_model.to(device)\n",
        "import torch\n",
        "from torch.utils.data import DataLoader, BatchSampler, RandomSampler\n",
        "import numpy as np\n",
        "from sklearn.preprocessing import OneHotEncoder\n",
        "from sklearn.compose import make_column_transformer\n",
        "sample = ['A', 'T', 'C', 'G', 'N']\n",
        "A = make_column_transformer(\n",
        "    (OneHotEncoder(categories='auto'), [0]),\n",
        "    remainder=\"passthrough\"\n",
        ")\n",
        "A.fit(np.array(y).reshape(-1, 1))\n",
        "# Prepare to save the best model\n",
        "best_loss = float('inf')  # Initialize to a high value for loss\n",
        "\n",
        "total_loss, batch_loss, batch_counts = 0, 0, 0"
      ],
      "metadata": {
        "id": "TiMoqmldDlwD"
      },
      "execution_count": null,
      "outputs": []
    },
    {
      "cell_type": "code",
      "source": [
        "new_model"
      ],
      "metadata": {
        "colab": {
          "base_uri": "https://localhost:8080/"
        },
        "id": "CbdhZvtFBWky",
        "outputId": "c3ff3b9e-5c6f-46e4-b4c2-2093d09c9d9c"
      },
      "execution_count": null,
      "outputs": [
        {
          "output_type": "execute_result",
          "data": {
            "text/plain": [
              "FinetunningBertXLNet7(\n",
              "  (bert): BertModel(\n",
              "    (embeddings): BertEmbeddings(\n",
              "      (word_embeddings): Embedding(16, 512, padding_idx=0)\n",
              "      (position_embeddings): Embedding(255, 512)\n",
              "      (token_type_embeddings): Embedding(1, 512)\n",
              "      (LayerNorm): LayerNorm((512,), eps=1e-12, elementwise_affine=True)\n",
              "      (dropout): Dropout(p=0.1, inplace=False)\n",
              "    )\n",
              "    (encoder): BertEncoder(\n",
              "      (layer): ModuleList(\n",
              "        (0-1): 2 x BertLayer(\n",
              "          (attention): BertAttention(\n",
              "            (self): BertSdpaSelfAttention(\n",
              "              (query): Linear(in_features=512, out_features=512, bias=True)\n",
              "              (key): Linear(in_features=512, out_features=512, bias=True)\n",
              "              (value): Linear(in_features=512, out_features=512, bias=True)\n",
              "              (dropout): Dropout(p=0.1, inplace=False)\n",
              "            )\n",
              "            (output): BertSelfOutput(\n",
              "              (dense): Linear(in_features=512, out_features=512, bias=True)\n",
              "              (LayerNorm): LayerNorm((512,), eps=1e-12, elementwise_affine=True)\n",
              "              (dropout): Dropout(p=0.1, inplace=False)\n",
              "            )\n",
              "          )\n",
              "          (intermediate): BertIntermediate(\n",
              "            (dense): Linear(in_features=512, out_features=1024, bias=True)\n",
              "            (intermediate_act_fn): GELUActivation()\n",
              "          )\n",
              "          (output): BertOutput(\n",
              "            (dense): Linear(in_features=1024, out_features=512, bias=True)\n",
              "            (LayerNorm): LayerNorm((512,), eps=1e-12, elementwise_affine=True)\n",
              "            (dropout): Dropout(p=0.1, inplace=False)\n",
              "          )\n",
              "        )\n",
              "      )\n",
              "    )\n",
              "    (pooler): BertPooler(\n",
              "      (dense): Linear(in_features=512, out_features=512, bias=True)\n",
              "      (activation): Tanh()\n",
              "    )\n",
              "  )\n",
              "  (classifier): Linear(in_features=512, out_features=2, bias=True)\n",
              ")"
            ]
          },
          "metadata": {},
          "execution_count": 27
        }
      ]
    },
    {
      "cell_type": "code",
      "source": [
        "\n",
        "new_model.train()\n",
        "breaker=0\n",
        "for epoch in range(3):\n",
        "    for step, batch in enumerate(traindata_loader):\n",
        "        batch_counts += 1\n",
        "\n",
        "        x, y_ = batch\n",
        "        #print(len(x[0]))\n",
        "\n",
        "        batch_chunks, batch_masks, labels = [], [], []\n",
        "\n",
        "\n",
        "        if len(x[0][:]) != 0  and len(x[0][:]) <= 30090:\n",
        "\n",
        "            chunk, mask = non_overlapping_sliding_window(x[0][:], 250, 250)\n",
        "        if len(x[0][:int(len(x[0]) / 250) * 250]) == 0 and len(x[0]) < 250:\n",
        "            chunk, mask = non_overlapping_sliding_window(x[0][:], 250, 250)\n",
        "\n",
        "        batch_chunks.extend(chunk)\n",
        "\n",
        "\n",
        "        batch_chunks = torch.stack([torch.tensor(batch_chunk) for batch_chunk in batch_chunks])\n",
        "\n",
        "        batch_masks.extend(mask)\n",
        "        batch_masks = torch.stack(batch_masks)\n",
        "\n",
        "        y_ = A.transform(np.array(y_[0]).reshape(1, -1))\n",
        "        y_=np.array(y_)\n",
        "        labels.append(y_)\n",
        "\n",
        "\n",
        "        batch_chunks = torch.tensor(batch_chunks)\n",
        "        batch_masks = torch.tensor(batch_masks)\n",
        "\n",
        "        batch_masks_ = np.insert(batch_masks.numpy(), 0, 1, axis=1)\n",
        "        batch_masks_ = np.insert(batch_masks_, -1, 1, axis=1)\n",
        "\n",
        "        batch_masks = torch.tensor(batch_masks_)\n",
        "        batch_masks = torch.where(batch_masks == True, torch.ones_like(batch_masks, dtype=torch.int),\n",
        "                                    torch.zeros_like(batch_masks, dtype=torch.int)).to(device)\n",
        "\n",
        "        batch_inputs_ = np.insert(batch_chunks.numpy(), 0, 12, axis=1)\n",
        "        batch_inputs_ = np.insert(batch_inputs_, 251, 13, axis=1)\n",
        "\n",
        "        labels = torch.tensor(labels).to(device)\n",
        "        batch_inputs = torch.tensor(batch_inputs_).to(device)\n",
        "\n",
        "        new_model.zero_grad()\n",
        "        batch_inputs = torch.tensor(batch_inputs, dtype=torch.long).to(device)  # Long for input_ids\n",
        "        batch_masks = torch.tensor(batch_masks, dtype=torch.long).to(device)  # Long for attention masks\n",
        "\n",
        "\n",
        "        logits = new_model(torch.tensor(batch_inputs, dtype=torch.int64),\n",
        "                            attention_mask=torch.tensor(batch_masks, dtype=torch.int64))\n",
        "\n",
        "\n",
        "\n",
        "        with torch.autocast('cuda'):\n",
        "            loss = loss_fn(logits, labels[0])\n",
        "        batch_loss += loss.item()\n",
        "        total_loss += loss.item()\n",
        "        loss.backward()\n",
        "        torch.nn.utils.clip_grad_norm_(new_model.parameters(), 1.0)\n",
        "        optimizer.step()\n",
        "        scheduler.step()\n",
        "\n",
        "        if (step % 20 == 0 and step != 0) or (step == len(traindata_loader) - 1):\n",
        "            print(f\"{epoch + 1:^7} | {step:^7} | {batch_loss / batch_counts:^12.6f} | {'-':^10} | {'-':^9}\")\n",
        "            batch_loss, batch_counts = 0, 0\n",
        "\n",
        "\n",
        "\n",
        "    # Validation step to calculate the validation loss\n",
        "    val_loss,acc = validate_model(new_model, testdata_loader)\n",
        "    new_model.train()\n",
        "\n",
        "    # Save the best model based on validation loss\n",
        "    if val_loss < best_loss:\n",
        "        best_loss = val_loss\n",
        "        torch.save(new_model.state_dict(), './model.pt')\n",
        "        print(f\"Validation Loss: {val_loss:.4f}, Accuracy: {acc:.4f}\")\n",
        "\n",
        "\n"
      ],
      "metadata": {
        "id": "vESWg7plDuOA",
        "colab": {
          "base_uri": "https://localhost:8080/"
        },
        "outputId": "cc5badf2-7d4f-452e-f7c2-733745d464ff"
      },
      "execution_count": null,
      "outputs": [
        {
          "output_type": "stream",
          "name": "stdout",
          "text": [
            "   1    |   20    |   0.841603   |     -      |     -    \n",
            "   1    |   40    |   0.805735   |     -      |     -    \n",
            "   1    |   60    |   1.154883   |     -      |     -    \n",
            "   1    |   80    |   1.244172   |     -      |     -    \n",
            "   1    |   100   |   1.578555   |     -      |     -    \n",
            "   1    |   120   |   0.834516   |     -      |     -    \n",
            "   1    |   140   |   0.779984   |     -      |     -    \n",
            "   1    |   160   |   1.107245   |     -      |     -    \n",
            "   1    |   180   |   0.724960   |     -      |     -    \n",
            "   1    |   200   |   0.665066   |     -      |     -    \n",
            "   1    |   220   |   0.646612   |     -      |     -    \n",
            "   1    |   240   |   0.565123   |     -      |     -    \n",
            "   1    |   260   |   0.919696   |     -      |     -    \n",
            "   1    |   280   |   0.688680   |     -      |     -    \n",
            "   1    |   300   |   0.969786   |     -      |     -    \n",
            "   1    |   320   |   0.840564   |     -      |     -    \n",
            "   1    |   340   |   0.838081   |     -      |     -    \n",
            "   1    |   360   |   0.658227   |     -      |     -    \n",
            "   1    |   380   |   0.612840   |     -      |     -    \n",
            "   1    |   400   |   0.627222   |     -      |     -    \n",
            "   1    |   420   |   0.880769   |     -      |     -    \n",
            "   1    |   440   |   0.713665   |     -      |     -    \n",
            "   1    |   460   |   0.467457   |     -      |     -    \n",
            "   1    |   480   |   0.860648   |     -      |     -    \n",
            "   1    |   500   |   0.351019   |     -      |     -    \n",
            "   1    |   520   |   0.619553   |     -      |     -    \n",
            "   1    |   540   |   1.047236   |     -      |     -    \n",
            "   1    |   560   |   1.118495   |     -      |     -    \n",
            "   1    |   580   |   1.419441   |     -      |     -    \n",
            "   1    |   600   |   0.629193   |     -      |     -    \n",
            "   1    |   620   |   0.764390   |     -      |     -    \n",
            "   1    |   640   |   0.557828   |     -      |     -    \n",
            "   1    |   660   |   0.444172   |     -      |     -    \n",
            "   1    |   680   |   0.338441   |     -      |     -    \n",
            "   1    |   700   |   0.440522   |     -      |     -    \n",
            "   1    |   720   |   0.227614   |     -      |     -    \n",
            "   1    |   740   |   1.165655   |     -      |     -    \n",
            "   1    |   760   |   0.687612   |     -      |     -    \n",
            "   1    |   780   |   0.467412   |     -      |     -    \n",
            "   1    |   800   |   0.412930   |     -      |     -    \n",
            "   1    |   820   |   1.004289   |     -      |     -    \n",
            "   1    |   840   |   0.750533   |     -      |     -    \n",
            "   1    |   860   |   0.508901   |     -      |     -    \n",
            "   1    |   880   |   0.576125   |     -      |     -    \n",
            "   1    |   900   |   0.577862   |     -      |     -    \n",
            "   1    |   920   |   0.210682   |     -      |     -    \n",
            "   1    |   940   |   0.272611   |     -      |     -    \n",
            "   1    |   960   |   0.475586   |     -      |     -    \n",
            "   1    |   980   |   0.269920   |     -      |     -    \n",
            "   1    |  1000   |   0.264047   |     -      |     -    \n",
            "   1    |  1020   |   0.225173   |     -      |     -    \n",
            "   1    |  1040   |   0.199255   |     -      |     -    \n",
            "   1    |  1060   |   0.360632   |     -      |     -    \n",
            "   1    |  1080   |   0.252110   |     -      |     -    \n",
            "   1    |  1100   |   0.690410   |     -      |     -    \n",
            "   1    |  1120   |   0.096934   |     -      |     -    \n",
            "   1    |  1140   |   0.408627   |     -      |     -    \n",
            "   1    |  1156   |   0.166681   |     -      |     -    \n",
            "Validation Loss: 0.4092, Accuracy: 0.9016\n",
            "Validation Loss: 0.4092, Accuracy: 0.9016\n",
            "   2    |   20    |   0.190899   |     -      |     -    \n",
            "   2    |   40    |   0.533869   |     -      |     -    \n",
            "   2    |   60    |   0.237925   |     -      |     -    \n",
            "   2    |   80    |   0.249913   |     -      |     -    \n",
            "   2    |   100   |   0.400914   |     -      |     -    \n",
            "   2    |   120   |   0.170604   |     -      |     -    \n",
            "   2    |   140   |   0.147899   |     -      |     -    \n",
            "   2    |   160   |   0.112659   |     -      |     -    \n",
            "   2    |   180   |   0.910320   |     -      |     -    \n",
            "   2    |   200   |   0.237414   |     -      |     -    \n",
            "   2    |   220   |   0.115606   |     -      |     -    \n",
            "   2    |   240   |   0.316686   |     -      |     -    \n",
            "   2    |   260   |   0.549846   |     -      |     -    \n",
            "   2    |   280   |   0.131872   |     -      |     -    \n",
            "   2    |   300   |   0.343176   |     -      |     -    \n",
            "   2    |   320   |   0.059461   |     -      |     -    \n",
            "   2    |   340   |   0.182153   |     -      |     -    \n",
            "   2    |   360   |   0.198883   |     -      |     -    \n",
            "   2    |   380   |   0.245260   |     -      |     -    \n",
            "   2    |   400   |   0.895295   |     -      |     -    \n",
            "   2    |   420   |   0.574750   |     -      |     -    \n",
            "   2    |   440   |   0.219163   |     -      |     -    \n",
            "   2    |   460   |   0.053189   |     -      |     -    \n",
            "   2    |   480   |   0.194905   |     -      |     -    \n",
            "   2    |   500   |   0.199947   |     -      |     -    \n",
            "   2    |   520   |   0.200668   |     -      |     -    \n",
            "   2    |   540   |   0.081240   |     -      |     -    \n",
            "   2    |   560   |   0.462798   |     -      |     -    \n",
            "   2    |   580   |   0.071714   |     -      |     -    \n",
            "   2    |   600   |   0.252098   |     -      |     -    \n",
            "   2    |   620   |   0.230850   |     -      |     -    \n",
            "   2    |   640   |   0.482518   |     -      |     -    \n",
            "   2    |   660   |   0.059036   |     -      |     -    \n",
            "   2    |   680   |   0.185424   |     -      |     -    \n",
            "   2    |   700   |   0.074978   |     -      |     -    \n",
            "   2    |   720   |   0.666237   |     -      |     -    \n",
            "   2    |   740   |   0.686549   |     -      |     -    \n",
            "   2    |   760   |   0.302131   |     -      |     -    \n",
            "   2    |   780   |   0.073301   |     -      |     -    \n",
            "   2    |   800   |   0.249800   |     -      |     -    \n",
            "   2    |   820   |   0.315747   |     -      |     -    \n",
            "   2    |   840   |   0.138415   |     -      |     -    \n",
            "   2    |   860   |   0.060264   |     -      |     -    \n",
            "   2    |   880   |   0.549760   |     -      |     -    \n",
            "   2    |   900   |   0.316247   |     -      |     -    \n",
            "   2    |   920   |   0.207167   |     -      |     -    \n",
            "   2    |   940   |   0.280553   |     -      |     -    \n",
            "   2    |   960   |   0.203322   |     -      |     -    \n",
            "   2    |   980   |   0.151034   |     -      |     -    \n",
            "   2    |  1000   |   0.101566   |     -      |     -    \n",
            "   2    |  1020   |   0.063598   |     -      |     -    \n",
            "   2    |  1040   |   0.044812   |     -      |     -    \n",
            "   2    |  1060   |   0.115805   |     -      |     -    \n",
            "   2    |  1080   |   0.100448   |     -      |     -    \n",
            "   2    |  1100   |   0.512842   |     -      |     -    \n",
            "   2    |  1120   |   0.291112   |     -      |     -    \n",
            "   2    |  1140   |   0.510081   |     -      |     -    \n",
            "   2    |  1156   |   0.137545   |     -      |     -    \n",
            "Validation Loss: 0.1512, Accuracy: 0.9344\n",
            "Validation Loss: 0.1512, Accuracy: 0.9344\n",
            "   3    |   20    |   0.216086   |     -      |     -    \n",
            "   3    |   40    |   0.201860   |     -      |     -    \n",
            "   3    |   60    |   0.162790   |     -      |     -    \n",
            "   3    |   80    |   0.095838   |     -      |     -    \n",
            "   3    |   100   |   0.210090   |     -      |     -    \n",
            "   3    |   120   |   0.170910   |     -      |     -    \n",
            "   3    |   140   |   0.096607   |     -      |     -    \n",
            "   3    |   160   |   0.171561   |     -      |     -    \n",
            "   3    |   180   |   0.103750   |     -      |     -    \n",
            "   3    |   200   |   0.134336   |     -      |     -    \n",
            "   3    |   220   |   0.069774   |     -      |     -    \n",
            "   3    |   240   |   0.154171   |     -      |     -    \n",
            "   3    |   260   |   0.079551   |     -      |     -    \n",
            "   3    |   280   |   0.112300   |     -      |     -    \n",
            "   3    |   300   |   0.065031   |     -      |     -    \n",
            "   3    |   320   |   0.321228   |     -      |     -    \n",
            "   3    |   340   |   0.053896   |     -      |     -    \n",
            "   3    |   360   |   0.075102   |     -      |     -    \n",
            "   3    |   380   |   0.086441   |     -      |     -    \n",
            "   3    |   400   |   0.254224   |     -      |     -    \n",
            "   3    |   420   |   0.539436   |     -      |     -    \n",
            "   3    |   440   |   0.256684   |     -      |     -    \n",
            "   3    |   460   |   0.161856   |     -      |     -    \n",
            "   3    |   480   |   0.085165   |     -      |     -    \n",
            "   3    |   500   |   0.145224   |     -      |     -    \n",
            "   3    |   520   |   0.073791   |     -      |     -    \n",
            "   3    |   540   |   0.105094   |     -      |     -    \n",
            "   3    |   560   |   0.131144   |     -      |     -    \n",
            "   3    |   580   |   0.168807   |     -      |     -    \n",
            "   3    |   600   |   0.081806   |     -      |     -    \n",
            "   3    |   620   |   0.109072   |     -      |     -    \n",
            "   3    |   640   |   0.202893   |     -      |     -    \n",
            "   3    |   660   |   0.135651   |     -      |     -    \n",
            "   3    |   680   |   0.207229   |     -      |     -    \n",
            "   3    |   700   |   0.169625   |     -      |     -    \n",
            "   3    |   720   |   0.184304   |     -      |     -    \n",
            "   3    |   740   |   0.089889   |     -      |     -    \n",
            "   3    |   760   |   0.222509   |     -      |     -    \n",
            "   3    |   780   |   0.275379   |     -      |     -    \n",
            "   3    |   800   |   0.281638   |     -      |     -    \n",
            "   3    |   820   |   0.633129   |     -      |     -    \n",
            "   3    |   840   |   0.202752   |     -      |     -    \n",
            "   3    |   860   |   0.081338   |     -      |     -    \n",
            "   3    |   880   |   0.367025   |     -      |     -    \n",
            "   3    |   900   |   0.222417   |     -      |     -    \n",
            "   3    |   920   |   0.236634   |     -      |     -    \n",
            "   3    |   940   |   0.225747   |     -      |     -    \n",
            "   3    |   960   |   0.553255   |     -      |     -    \n",
            "   3    |   980   |   0.164831   |     -      |     -    \n",
            "   3    |  1000   |   0.131386   |     -      |     -    \n",
            "   3    |  1020   |   0.064397   |     -      |     -    \n",
            "   3    |  1040   |   0.366333   |     -      |     -    \n",
            "   3    |  1060   |   0.114140   |     -      |     -    \n",
            "   3    |  1080   |   0.077291   |     -      |     -    \n",
            "   3    |  1100   |   0.339987   |     -      |     -    \n",
            "   3    |  1120   |   0.166490   |     -      |     -    \n",
            "   3    |  1140   |   0.035442   |     -      |     -    \n",
            "   3    |  1156   |   0.700931   |     -      |     -    \n",
            "Validation Loss: 0.1512, Accuracy: 0.9344\n"
          ]
        }
      ]
    },
    {
      "cell_type": "code",
      "source": [
        "from google.colab import drive\n",
        "drive.mount('/content/drive')"
      ],
      "metadata": {
        "colab": {
          "base_uri": "https://localhost:8080/"
        },
        "id": "MfX1KSGngFkX",
        "outputId": "67760b74-46ce-416d-e644-22947a1abb7d"
      },
      "execution_count": null,
      "outputs": [
        {
          "output_type": "stream",
          "name": "stdout",
          "text": [
            "Mounted at /content/drive\n"
          ]
        }
      ]
    },
    {
      "cell_type": "code",
      "source": [
        "model_save_path = '/content/drive/MyDrive/Upwork_Projects/HBV/P_Gene_93_44%.pt'  # Path to save the best model\n",
        "torch.save(new_model.state_dict(), model_save_path)\n"
      ],
      "metadata": {
        "id": "W6vRJodMYNaT"
      },
      "execution_count": null,
      "outputs": []
    },
    {
      "cell_type": "code",
      "source": [
        "from pydrive2.auth import GoogleAuth\n",
        "from pydrive2.drive import GoogleDrive\n",
        "from oauth2client.service_account import ServiceAccountCredentials\n",
        "import pkg_resources\n",
        "from datetime import date\n",
        "import sys\n",
        "import os\n",
        "import gdown\n",
        "import pandas as pd\n",
        "\n",
        "# Define the Google Drive public link\n",
        "url = 'https://drive.google.com/uc?id=17hVE2R7EM9pLhN_Ro3TpTJY_xEmCWeMn'\n",
        "\n",
        "# Define the file name to save the DataFrame\n",
        "output_file = 'client.json'\n",
        "\n",
        "# Download the file from the Google Drive link\n",
        "gdown.download(url, output_file, quiet=False)\n",
        "# Change directory to where your client.json file is located\n",
        "#os.chdir('/kaggle/input/secret2')\n",
        "\n",
        "def upload_file_to_gdrive(file_path, file_name):\n",
        "    gauth = GoogleAuth()\n",
        "    # NOTE: if you are getting storage quota exceeded error, create a new service account, and give that service account permission to access the folder and replace the google_credentials.\n",
        "    gauth.credentials = ServiceAccountCredentials.from_json_keyfile_name(\n",
        "        pkg_resources.resource_filename(__name__, \"client.json\"), scopes=['https://www.googleapis.com/auth/drive'])\n",
        "\n",
        "    drive = GoogleDrive(gauth)\n",
        "    #today = date.today().strftime(\"%m/%d/%y\")\n",
        "\n",
        "    folder_name =  \"manual_upload\"\n",
        "    parent_directory_id = '19weTCpcUARxBgDWxTTWUdnL4uw-vpzN8'\n",
        "\n",
        "    folder_meta = {\n",
        "        \"title\":  folder_name,\n",
        "        \"parents\": [{'id': parent_directory_id}],\n",
        "        'mimeType': 'application/vnd.google-apps.folder'\n",
        "    }\n",
        "\n",
        "    # check if folder already exist or not\n",
        "    folder_id = None\n",
        "    foldered_list = drive.ListFile(\n",
        "        {'q':  \"'\"+parent_directory_id+\"' in parents and trashed=false\"}).GetList()\n",
        "\n",
        "    for file in foldered_list:\n",
        "        if (file['title'] == folder_name):\n",
        "            folder_id = file['id']\n",
        "\n",
        "    if folder_id == None:\n",
        "        folder = drive.CreateFile(folder_meta)\n",
        "        folder.Upload()\n",
        "        folder_id = folder.get(\"id\")\n",
        "    # Delete all files in the folder\n",
        "#     for file in foldered_list:\n",
        "#         file.Delete()\n",
        "\n",
        "    file1 = drive.CreateFile(\n",
        "        {'parents': [{\"id\": folder_id}], 'title': file_name})\n",
        "\n",
        "\n",
        "    file1.SetContentFile(file_path)\n",
        "\n",
        "    file1.Upload()\n",
        "\n",
        "\n",
        "\n",
        "file_path = './HBV9.pt'\n",
        "\n",
        "if not os.path.isfile(file_path):\n",
        "    print('file does not exist file_path')\n",
        "else:\n",
        "    file_name = os.path.basename(file_path)\n",
        "    print('file exist and uploading ----------')\n",
        "    upload_file_to_gdrive(file_path, file_name)\n"
      ],
      "metadata": {
        "colab": {
          "base_uri": "https://localhost:8080/",
          "height": 569
        },
        "id": "Ayi0eoTIYETK",
        "outputId": "f2a0d7dc-0538-40c9-bf0e-bb275f72d5a1"
      },
      "execution_count": null,
      "outputs": [
        {
          "output_type": "stream",
          "name": "stderr",
          "text": [
            "Downloading...\n",
            "From: https://drive.google.com/uc?id=17hVE2R7EM9pLhN_Ro3TpTJY_xEmCWeMn\n",
            "To: /content/client.json\n",
            "100%|██████████| 2.39k/2.39k [00:00<00:00, 3.04MB/s]\n"
          ]
        },
        {
          "output_type": "stream",
          "name": "stdout",
          "text": [
            "file exist and uploading ----------\n"
          ]
        },
        {
          "output_type": "stream",
          "name": "stderr",
          "text": [
            "WARNING:googleapiclient.http:Encountered 403 Forbidden with reason \"quotaExceeded\"\n"
          ]
        },
        {
          "output_type": "error",
          "ename": "ApiRequestError",
          "evalue": "<HttpError 403 when requesting None returned \"The user has exceeded their Drive storage quota\". Details: \"[{'message': 'The user has exceeded their Drive storage quota', 'domain': 'usageLimits', 'reason': 'quotaExceeded'}]\">",
          "traceback": [
            "\u001b[0;31m---------------------------------------------------------------------------\u001b[0m",
            "\u001b[0;31mResumableUploadError\u001b[0m                      Traceback (most recent call last)",
            "\u001b[0;32m/usr/local/lib/python3.10/dist-packages/pydrive2/files.py\u001b[0m in \u001b[0;36m_FilesInsert\u001b[0;34m(self, param)\u001b[0m\n\u001b[1;32m    725\u001b[0m             metadata = (\n\u001b[0;32m--> 726\u001b[0;31m                 \u001b[0mself\u001b[0m\u001b[0;34m.\u001b[0m\u001b[0mauth\u001b[0m\u001b[0;34m.\u001b[0m\u001b[0mservice\u001b[0m\u001b[0;34m.\u001b[0m\u001b[0mfiles\u001b[0m\u001b[0;34m(\u001b[0m\u001b[0;34m)\u001b[0m\u001b[0;34m\u001b[0m\u001b[0;34m\u001b[0m\u001b[0m\n\u001b[0m\u001b[1;32m    727\u001b[0m                 \u001b[0;34m.\u001b[0m\u001b[0minsert\u001b[0m\u001b[0;34m(\u001b[0m\u001b[0;34m**\u001b[0m\u001b[0mparam\u001b[0m\u001b[0;34m)\u001b[0m\u001b[0;34m\u001b[0m\u001b[0;34m\u001b[0m\u001b[0m\n",
            "\u001b[0;32m/usr/local/lib/python3.10/dist-packages/googleapiclient/_helpers.py\u001b[0m in \u001b[0;36mpositional_wrapper\u001b[0;34m(*args, **kwargs)\u001b[0m\n\u001b[1;32m    129\u001b[0m                     \u001b[0mlogger\u001b[0m\u001b[0;34m.\u001b[0m\u001b[0mwarning\u001b[0m\u001b[0;34m(\u001b[0m\u001b[0mmessage\u001b[0m\u001b[0;34m)\u001b[0m\u001b[0;34m\u001b[0m\u001b[0;34m\u001b[0m\u001b[0m\n\u001b[0;32m--> 130\u001b[0;31m             \u001b[0;32mreturn\u001b[0m \u001b[0mwrapped\u001b[0m\u001b[0;34m(\u001b[0m\u001b[0;34m*\u001b[0m\u001b[0margs\u001b[0m\u001b[0;34m,\u001b[0m \u001b[0;34m**\u001b[0m\u001b[0mkwargs\u001b[0m\u001b[0;34m)\u001b[0m\u001b[0;34m\u001b[0m\u001b[0;34m\u001b[0m\u001b[0m\n\u001b[0m\u001b[1;32m    131\u001b[0m \u001b[0;34m\u001b[0m\u001b[0m\n",
            "\u001b[0;32m/usr/local/lib/python3.10/dist-packages/googleapiclient/http.py\u001b[0m in \u001b[0;36mexecute\u001b[0;34m(self, http, num_retries)\u001b[0m\n\u001b[1;32m    901\u001b[0m             \u001b[0;32mwhile\u001b[0m \u001b[0mbody\u001b[0m \u001b[0;32mis\u001b[0m \u001b[0;32mNone\u001b[0m\u001b[0;34m:\u001b[0m\u001b[0;34m\u001b[0m\u001b[0;34m\u001b[0m\u001b[0m\n\u001b[0;32m--> 902\u001b[0;31m                 \u001b[0m_\u001b[0m\u001b[0;34m,\u001b[0m \u001b[0mbody\u001b[0m \u001b[0;34m=\u001b[0m \u001b[0mself\u001b[0m\u001b[0;34m.\u001b[0m\u001b[0mnext_chunk\u001b[0m\u001b[0;34m(\u001b[0m\u001b[0mhttp\u001b[0m\u001b[0;34m=\u001b[0m\u001b[0mhttp\u001b[0m\u001b[0;34m,\u001b[0m \u001b[0mnum_retries\u001b[0m\u001b[0;34m=\u001b[0m\u001b[0mnum_retries\u001b[0m\u001b[0;34m)\u001b[0m\u001b[0;34m\u001b[0m\u001b[0;34m\u001b[0m\u001b[0m\n\u001b[0m\u001b[1;32m    903\u001b[0m             \u001b[0;32mreturn\u001b[0m \u001b[0mbody\u001b[0m\u001b[0;34m\u001b[0m\u001b[0;34m\u001b[0m\u001b[0m\n",
            "\u001b[0;32m/usr/local/lib/python3.10/dist-packages/googleapiclient/_helpers.py\u001b[0m in \u001b[0;36mpositional_wrapper\u001b[0;34m(*args, **kwargs)\u001b[0m\n\u001b[1;32m    129\u001b[0m                     \u001b[0mlogger\u001b[0m\u001b[0;34m.\u001b[0m\u001b[0mwarning\u001b[0m\u001b[0;34m(\u001b[0m\u001b[0mmessage\u001b[0m\u001b[0;34m)\u001b[0m\u001b[0;34m\u001b[0m\u001b[0;34m\u001b[0m\u001b[0m\n\u001b[0;32m--> 130\u001b[0;31m             \u001b[0;32mreturn\u001b[0m \u001b[0mwrapped\u001b[0m\u001b[0;34m(\u001b[0m\u001b[0;34m*\u001b[0m\u001b[0margs\u001b[0m\u001b[0;34m,\u001b[0m \u001b[0;34m**\u001b[0m\u001b[0mkwargs\u001b[0m\u001b[0;34m)\u001b[0m\u001b[0;34m\u001b[0m\u001b[0;34m\u001b[0m\u001b[0m\n\u001b[0m\u001b[1;32m    131\u001b[0m \u001b[0;34m\u001b[0m\u001b[0m\n",
            "\u001b[0;32m/usr/local/lib/python3.10/dist-packages/googleapiclient/http.py\u001b[0m in \u001b[0;36mnext_chunk\u001b[0;34m(self, http, num_retries)\u001b[0m\n\u001b[1;32m   1021\u001b[0m             \u001b[0;32melse\u001b[0m\u001b[0;34m:\u001b[0m\u001b[0;34m\u001b[0m\u001b[0;34m\u001b[0m\u001b[0m\n\u001b[0;32m-> 1022\u001b[0;31m                 \u001b[0;32mraise\u001b[0m \u001b[0mResumableUploadError\u001b[0m\u001b[0;34m(\u001b[0m\u001b[0mresp\u001b[0m\u001b[0;34m,\u001b[0m \u001b[0mcontent\u001b[0m\u001b[0;34m)\u001b[0m\u001b[0;34m\u001b[0m\u001b[0;34m\u001b[0m\u001b[0m\n\u001b[0m\u001b[1;32m   1023\u001b[0m         \u001b[0;32melif\u001b[0m \u001b[0mself\u001b[0m\u001b[0;34m.\u001b[0m\u001b[0m_in_error_state\u001b[0m\u001b[0;34m:\u001b[0m\u001b[0;34m\u001b[0m\u001b[0;34m\u001b[0m\u001b[0m\n",
            "\u001b[0;31mResumableUploadError\u001b[0m: <HttpError 403 when requesting None returned \"The user has exceeded their Drive storage quota\". Details: \"[{'message': 'The user has exceeded their Drive storage quota', 'domain': 'usageLimits', 'reason': 'quotaExceeded'}]\">",
            "\nDuring handling of the above exception, another exception occurred:\n",
            "\u001b[0;31mApiRequestError\u001b[0m                           Traceback (most recent call last)",
            "\u001b[0;32m<ipython-input-30-e748eedde207>\u001b[0m in \u001b[0;36m<cell line: 69>\u001b[0;34m()\u001b[0m\n\u001b[1;32m     72\u001b[0m     \u001b[0mfile_name\u001b[0m \u001b[0;34m=\u001b[0m \u001b[0mos\u001b[0m\u001b[0;34m.\u001b[0m\u001b[0mpath\u001b[0m\u001b[0;34m.\u001b[0m\u001b[0mbasename\u001b[0m\u001b[0;34m(\u001b[0m\u001b[0mfile_path\u001b[0m\u001b[0;34m)\u001b[0m\u001b[0;34m\u001b[0m\u001b[0;34m\u001b[0m\u001b[0m\n\u001b[1;32m     73\u001b[0m     \u001b[0mprint\u001b[0m\u001b[0;34m(\u001b[0m\u001b[0;34m'file exist and uploading ----------'\u001b[0m\u001b[0;34m)\u001b[0m\u001b[0;34m\u001b[0m\u001b[0;34m\u001b[0m\u001b[0m\n\u001b[0;32m---> 74\u001b[0;31m     \u001b[0mupload_file_to_gdrive\u001b[0m\u001b[0;34m(\u001b[0m\u001b[0mfile_path\u001b[0m\u001b[0;34m,\u001b[0m \u001b[0mfile_name\u001b[0m\u001b[0;34m)\u001b[0m\u001b[0;34m\u001b[0m\u001b[0;34m\u001b[0m\u001b[0m\n\u001b[0m",
            "\u001b[0;32m<ipython-input-30-e748eedde207>\u001b[0m in \u001b[0;36mupload_file_to_gdrive\u001b[0;34m(file_path, file_name)\u001b[0m\n\u001b[1;32m     61\u001b[0m     \u001b[0mfile1\u001b[0m\u001b[0;34m.\u001b[0m\u001b[0mSetContentFile\u001b[0m\u001b[0;34m(\u001b[0m\u001b[0mfile_path\u001b[0m\u001b[0;34m)\u001b[0m\u001b[0;34m\u001b[0m\u001b[0;34m\u001b[0m\u001b[0m\n\u001b[1;32m     62\u001b[0m \u001b[0;34m\u001b[0m\u001b[0m\n\u001b[0;32m---> 63\u001b[0;31m     \u001b[0mfile1\u001b[0m\u001b[0;34m.\u001b[0m\u001b[0mUpload\u001b[0m\u001b[0;34m(\u001b[0m\u001b[0;34m)\u001b[0m\u001b[0;34m\u001b[0m\u001b[0;34m\u001b[0m\u001b[0m\n\u001b[0m\u001b[1;32m     64\u001b[0m \u001b[0;34m\u001b[0m\u001b[0m\n\u001b[1;32m     65\u001b[0m \u001b[0;34m\u001b[0m\u001b[0m\n",
            "\u001b[0;32m/usr/local/lib/python3.10/dist-packages/pydrive2/files.py\u001b[0m in \u001b[0;36mUpload\u001b[0;34m(self, param)\u001b[0m\n\u001b[1;32m    512\u001b[0m                 \u001b[0mself\u001b[0m\u001b[0;34m.\u001b[0m\u001b[0m_FilesPatch\u001b[0m\u001b[0;34m(\u001b[0m\u001b[0mparam\u001b[0m\u001b[0;34m=\u001b[0m\u001b[0mparam\u001b[0m\u001b[0;34m)\u001b[0m\u001b[0;34m\u001b[0m\u001b[0;34m\u001b[0m\u001b[0m\n\u001b[1;32m    513\u001b[0m         \u001b[0;32melse\u001b[0m\u001b[0;34m:\u001b[0m\u001b[0;34m\u001b[0m\u001b[0;34m\u001b[0m\u001b[0m\n\u001b[0;32m--> 514\u001b[0;31m             \u001b[0mself\u001b[0m\u001b[0;34m.\u001b[0m\u001b[0m_FilesInsert\u001b[0m\u001b[0;34m(\u001b[0m\u001b[0mparam\u001b[0m\u001b[0;34m=\u001b[0m\u001b[0mparam\u001b[0m\u001b[0;34m)\u001b[0m\u001b[0;34m\u001b[0m\u001b[0;34m\u001b[0m\u001b[0m\n\u001b[0m\u001b[1;32m    515\u001b[0m \u001b[0;34m\u001b[0m\u001b[0m\n\u001b[1;32m    516\u001b[0m     \u001b[0;32mdef\u001b[0m \u001b[0mTrash\u001b[0m\u001b[0;34m(\u001b[0m\u001b[0mself\u001b[0m\u001b[0;34m,\u001b[0m \u001b[0mparam\u001b[0m\u001b[0;34m=\u001b[0m\u001b[0;32mNone\u001b[0m\u001b[0;34m)\u001b[0m\u001b[0;34m:\u001b[0m\u001b[0;34m\u001b[0m\u001b[0;34m\u001b[0m\u001b[0m\n",
            "\u001b[0;32m/usr/local/lib/python3.10/dist-packages/pydrive2/auth.py\u001b[0m in \u001b[0;36m_decorated\u001b[0;34m(self, *args, **kwargs)\u001b[0m\n\u001b[1;32m     83\u001b[0m             \u001b[0mself\u001b[0m\u001b[0;34m.\u001b[0m\u001b[0mhttp\u001b[0m \u001b[0;34m=\u001b[0m \u001b[0mself\u001b[0m\u001b[0;34m.\u001b[0m\u001b[0mauth\u001b[0m\u001b[0;34m.\u001b[0m\u001b[0mthread_local\u001b[0m\u001b[0;34m.\u001b[0m\u001b[0mhttp\u001b[0m\u001b[0;34m\u001b[0m\u001b[0;34m\u001b[0m\u001b[0m\n\u001b[1;32m     84\u001b[0m \u001b[0;34m\u001b[0m\u001b[0m\n\u001b[0;32m---> 85\u001b[0;31m         \u001b[0;32mreturn\u001b[0m \u001b[0mdecoratee\u001b[0m\u001b[0;34m(\u001b[0m\u001b[0mself\u001b[0m\u001b[0;34m,\u001b[0m \u001b[0;34m*\u001b[0m\u001b[0margs\u001b[0m\u001b[0;34m,\u001b[0m \u001b[0;34m**\u001b[0m\u001b[0mkwargs\u001b[0m\u001b[0;34m)\u001b[0m\u001b[0;34m\u001b[0m\u001b[0;34m\u001b[0m\u001b[0m\n\u001b[0m\u001b[1;32m     86\u001b[0m \u001b[0;34m\u001b[0m\u001b[0m\n\u001b[1;32m     87\u001b[0m     \u001b[0;32mreturn\u001b[0m \u001b[0m_decorated\u001b[0m\u001b[0;34m\u001b[0m\u001b[0;34m\u001b[0m\u001b[0m\n",
            "\u001b[0;32m/usr/local/lib/python3.10/dist-packages/pydrive2/files.py\u001b[0m in \u001b[0;36m_FilesInsert\u001b[0;34m(self, param)\u001b[0m\n\u001b[1;32m    729\u001b[0m             )\n\u001b[1;32m    730\u001b[0m         \u001b[0;32mexcept\u001b[0m \u001b[0merrors\u001b[0m\u001b[0;34m.\u001b[0m\u001b[0mHttpError\u001b[0m \u001b[0;32mas\u001b[0m \u001b[0merror\u001b[0m\u001b[0;34m:\u001b[0m\u001b[0;34m\u001b[0m\u001b[0;34m\u001b[0m\u001b[0m\n\u001b[0;32m--> 731\u001b[0;31m             \u001b[0;32mraise\u001b[0m \u001b[0mApiRequestError\u001b[0m\u001b[0;34m(\u001b[0m\u001b[0merror\u001b[0m\u001b[0;34m)\u001b[0m\u001b[0;34m\u001b[0m\u001b[0;34m\u001b[0m\u001b[0m\n\u001b[0m\u001b[1;32m    732\u001b[0m         \u001b[0;32melse\u001b[0m\u001b[0;34m:\u001b[0m\u001b[0;34m\u001b[0m\u001b[0;34m\u001b[0m\u001b[0m\n\u001b[1;32m    733\u001b[0m             \u001b[0mself\u001b[0m\u001b[0;34m.\u001b[0m\u001b[0muploaded\u001b[0m \u001b[0;34m=\u001b[0m \u001b[0;32mTrue\u001b[0m\u001b[0;34m\u001b[0m\u001b[0;34m\u001b[0m\u001b[0m\n",
            "\u001b[0;31mApiRequestError\u001b[0m: <HttpError 403 when requesting None returned \"The user has exceeded their Drive storage quota\". Details: \"[{'message': 'The user has exceeded their Drive storage quota', 'domain': 'usageLimits', 'reason': 'quotaExceeded'}]\">"
          ]
        }
      ]
    },
    {
      "cell_type": "code",
      "source": [
        "df2.loc[df2['labels']==1]['Disease'].value_counts()"
      ],
      "metadata": {
        "colab": {
          "base_uri": "https://localhost:8080/",
          "height": 147
        },
        "id": "6cmwjVpyLbUe",
        "outputId": "b62dd055-1619-4955-cfb6-37b7b7b966eb"
      },
      "execution_count": null,
      "outputs": [
        {
          "output_type": "execute_result",
          "data": {
            "text/plain": [
              "Disease\n",
              "HCC    569\n",
              "Name: count, dtype: int64"
            ],
            "text/html": [
              "<div>\n",
              "<style scoped>\n",
              "    .dataframe tbody tr th:only-of-type {\n",
              "        vertical-align: middle;\n",
              "    }\n",
              "\n",
              "    .dataframe tbody tr th {\n",
              "        vertical-align: top;\n",
              "    }\n",
              "\n",
              "    .dataframe thead th {\n",
              "        text-align: right;\n",
              "    }\n",
              "</style>\n",
              "<table border=\"1\" class=\"dataframe\">\n",
              "  <thead>\n",
              "    <tr style=\"text-align: right;\">\n",
              "      <th></th>\n",
              "      <th>count</th>\n",
              "    </tr>\n",
              "    <tr>\n",
              "      <th>Disease</th>\n",
              "      <th></th>\n",
              "    </tr>\n",
              "  </thead>\n",
              "  <tbody>\n",
              "    <tr>\n",
              "      <th>HCC</th>\n",
              "      <td>569</td>\n",
              "    </tr>\n",
              "  </tbody>\n",
              "</table>\n",
              "</div><br><label><b>dtype:</b> int64</label>"
            ]
          },
          "metadata": {},
          "execution_count": 49
        }
      ]
    },
    {
      "cell_type": "code",
      "source": [
        "final.loc[final['Disease']=='liver cirrhosis']['seq'].str.len().mean()"
      ],
      "metadata": {
        "colab": {
          "base_uri": "https://localhost:8080/",
          "height": 146
        },
        "id": "UZmAPfACLA4X",
        "outputId": "28bbc023-0570-40ee-b99e-4823016727b3"
      },
      "execution_count": null,
      "outputs": [
        {
          "output_type": "error",
          "ename": "NameError",
          "evalue": "name 'final' is not defined",
          "traceback": [
            "\u001b[0;31m---------------------------------------------------------------------------\u001b[0m",
            "\u001b[0;31mNameError\u001b[0m                                 Traceback (most recent call last)",
            "\u001b[0;32m<ipython-input-50-23e9bf0615ea>\u001b[0m in \u001b[0;36m<cell line: 1>\u001b[0;34m()\u001b[0m\n\u001b[0;32m----> 1\u001b[0;31m \u001b[0mfinal\u001b[0m\u001b[0;34m.\u001b[0m\u001b[0mloc\u001b[0m\u001b[0;34m[\u001b[0m\u001b[0mfinal\u001b[0m\u001b[0;34m[\u001b[0m\u001b[0;34m'Disease'\u001b[0m\u001b[0;34m]\u001b[0m\u001b[0;34m==\u001b[0m\u001b[0;34m'liver cirrhosis'\u001b[0m\u001b[0;34m]\u001b[0m\u001b[0;34m[\u001b[0m\u001b[0;34m'seq'\u001b[0m\u001b[0;34m]\u001b[0m\u001b[0;34m.\u001b[0m\u001b[0mstr\u001b[0m\u001b[0;34m.\u001b[0m\u001b[0mlen\u001b[0m\u001b[0;34m(\u001b[0m\u001b[0;34m)\u001b[0m\u001b[0;34m.\u001b[0m\u001b[0mmean\u001b[0m\u001b[0;34m(\u001b[0m\u001b[0;34m)\u001b[0m\u001b[0;34m\u001b[0m\u001b[0;34m\u001b[0m\u001b[0m\n\u001b[0m",
            "\u001b[0;31mNameError\u001b[0m: name 'final' is not defined"
          ]
        }
      ]
    },
    {
      "cell_type": "code",
      "source": [
        "# new_model.load_state_dict(torch.load('/content/HBV9.pt', map_location=torch.device(device)))\n"
      ],
      "metadata": {
        "colab": {
          "base_uri": "https://localhost:8080/"
        },
        "id": "Ccj12uZwYUnA",
        "outputId": "f6b47dee-d854-4f78-f587-f1d2f345ba24"
      },
      "execution_count": null,
      "outputs": [
        {
          "output_type": "execute_result",
          "data": {
            "text/plain": [
              "<All keys matched successfully>"
            ]
          },
          "metadata": {},
          "execution_count": 14
        }
      ]
    },
    {
      "cell_type": "code",
      "source": [
        "import torch\n",
        "import numpy as np\n",
        "import matplotlib.pyplot as plt\n",
        "import seaborn as sns\n",
        "from sklearn.metrics import confusion_matrix\n",
        "from tqdm.auto import tqdm  # Import tqdm\n",
        "\n",
        "def plot_confusion_matrix(model, test_loader, num_classes, device):\n",
        "    model.eval()\n",
        "    all_preds = []\n",
        "    true=[]\n",
        "    all_labels = []\n",
        "    probs=[]\n",
        "    # breaker=0\n",
        "    with torch.no_grad():\n",
        "\n",
        "        for batch in tqdm(test_loader):\n",
        "            # breaker=breaker+1\n",
        "            x, y_ = batch\n",
        "            # if(breaker==50):\n",
        "            #   break\n",
        "\n",
        "            # Process the batch similarly to validation\n",
        "            batch_chunks, batch_masks, labels = [], [], []\n",
        "\n",
        "            if len(x[0][:]) != 0  and len(x[0][:]) <= 6000:\n",
        "                chunk, mask = non_overlapping_sliding_window(x[0][:], 250, 250)\n",
        "            if len(x[0][:int(len(x[0]) / 250) * 250]) == 0 and len(x[0]) < 250:\n",
        "                chunk, mask = non_overlapping_sliding_window(x[0][:], 250, 250)\n",
        "            batch_chunks.extend(chunk)\n",
        "\n",
        "            batch_chunks = torch.stack([torch.tensor(batch_chunk) for batch_chunk in batch_chunks]).to(device)\n",
        "            batch_masks.extend(mask)\n",
        "            batch_masks = torch.stack(batch_masks).to(device)\n",
        "\n",
        "           # y_ = A.transform(np.array(y_[0]).reshape(1, -1))\n",
        "            true.append(y_[0])\n",
        "            batch_masks_ = np.insert(batch_masks.cpu().numpy(), 0, 1, axis=1)\n",
        "            batch_masks_ = np.insert(batch_masks_, -1, 1, axis=1)\n",
        "            batch_masks = torch.tensor(batch_masks_).to(device)\n",
        "\n",
        "            batch_inputs_ = np.insert(batch_chunks.cpu().numpy(), 0, 12, axis=1)\n",
        "            batch_inputs_ = np.insert(batch_inputs_, 251, 13, axis=1)\n",
        "\n",
        "           # labels = torch.tensor(labels).to(device)\n",
        "            batch_inputs = torch.tensor(batch_inputs_).to(device)\n",
        "\n",
        "\n",
        "            batch_inputs = torch.tensor(batch_inputs, dtype=torch.long).to(device)  # Long for input_ids\n",
        "            batch_masks = torch.tensor(batch_masks, dtype=torch.long).to(device)  # Long for attention masks\n",
        "            # Forward pass\n",
        "            logits = model(batch_inputs, attention_mask=batch_masks)\n",
        "            predicted_labels = torch.argmax(torch.tensor(np.sum(np.array(logits.cpu().numpy()),axis=0)), dim=0)\n",
        "\n",
        "            # Get predicted classes\n",
        "            # _, predicted = torch.max(logits, dim=1)\n",
        "            # all_preds.extend(predicted.cpu().numpy())  # Store predictions\n",
        "            all_preds.append(int(predicted_labels))\n",
        "           # all_labels.extend(labels[0].cpu().numpy())  # Store true labels\n",
        "            probs.append(logits)\n",
        "\n",
        "    # Compute confusion matrix\n",
        "    cm = confusion_matrix(true, all_preds, labels=np.arange(num_classes))\n",
        "\n",
        "    # Plot confusion matrix\n",
        "    plt.figure(figsize=(10, 8))\n",
        "    sns.heatmap(cm, annot=True, fmt='d',cbar=True, # cmap='Blues',\n",
        "                xticklabels=np.arange(num_classes),\n",
        "                yticklabels=np.arange(num_classes))\n",
        "    plt.xlabel('Predicted')\n",
        "    plt.ylabel('True Label')\n",
        "    plt.title('Confusion Matrix')\n",
        "    plt.show()\n",
        "    return probs"
      ],
      "metadata": {
        "id": "UnDqHAf-D2Va"
      },
      "execution_count": null,
      "outputs": []
    },
    {
      "cell_type": "code",
      "source": [
        "\n",
        "num_classes = 2  # Adjust this to the number of classes in your problem\n",
        "probs=plot_confusion_matrix(new_model, testdata_loader, num_classes, device)"
      ],
      "metadata": {
        "colab": {
          "base_uri": "https://localhost:8080/",
          "height": 750,
          "referenced_widgets": [
            "6a2f0840a2954624b817c2a3a28b971d",
            "516aeb4fefbc4405a5f2b6587401348d",
            "a8a6aeaef6274716a825036aa36c8bce",
            "da374bafa1614910b4470f6203a667a4",
            "ba9153b417554cd6bdddc0434da9cb58",
            "3b635353d72a49829f265f337bebe455",
            "ffcabd781d9a46cb8a552945b3b5213d",
            "75202b1a1ec5497db9e73ca60928adfe",
            "9ce9a358af844f039c5e307bff6ee0ce",
            "a285ca4e5a3a4a97acaf941e672073cd",
            "fea0d1f8dfd344518c8bc1e065cddaa4"
          ]
        },
        "id": "tTfnuBi4MCtR",
        "outputId": "883db667-6694-4e27-e169-0fb8fb0b7505"
      },
      "execution_count": null,
      "outputs": [
        {
          "output_type": "display_data",
          "data": {
            "text/plain": [
              "  0%|          | 0/61 [00:00<?, ?it/s]"
            ],
            "application/vnd.jupyter.widget-view+json": {
              "version_major": 2,
              "version_minor": 0,
              "model_id": "6a2f0840a2954624b817c2a3a28b971d"
            }
          },
          "metadata": {}
        },
        {
          "output_type": "display_data",
          "data": {
            "text/plain": [
              "<Figure size 1000x800 with 2 Axes>"
            ],
            "image/png": "[encoded data removed]"
          },
          "metadata": {}
        }
      ]
    },
    {
      "cell_type": "code",
      "source": [
        "# Step 2: Stack the list of tensors into a single 2D tensor\n",
        "stacked_tensor = torch.stack(probs)  # Shape will be (3, 3)\n",
        "\n",
        "# Step 3: Convert the stacked tensor into a NumPy array\n",
        "probs_array = stacked_tensor.cpu() #.numpy()"
      ],
      "metadata": {
        "id": "U9FeKIHq5GOq"
      },
      "execution_count": null,
      "outputs": []
    },
    {
      "cell_type": "code",
      "source": [
        "Z_test['probs'] = np.array(torch.softmax(probs_array[:][:,0], dim=1)[:,1])\n",
        "Z_test.reset_index().to_csv('/content/drive/MyDrive/Upwork_Projects/HBV/Experiment2/Results/Test_resultsHBV_P_93_44%.csv')"
      ],
      "metadata": {
        "id": "qQyenwj95ofX"
      },
      "execution_count": null,
      "outputs": []
    },
    {
      "cell_type": "code",
      "source": [
        "import pandas as pd\n",
        "import matplotlib.pyplot as plt\n",
        "import seaborn as sns\n",
        "from sklearn.metrics import confusion_matrix\n",
        "\n",
        "Z_test['pred']=(Z_test['probs'].values>0.15).astype(np.int8)\n",
        "Z_test=Z_test.loc[Z_test['seq'].str.len() >0]\n",
        "Z_test[['Disease',\t'labels',\t'probs',\t'pred']]\n",
        "\n",
        "# Step 1: Create confusion matrix\n",
        "cm = confusion_matrix(Z_test['labels'], Z_test['pred'])\n",
        "\n",
        "# Step 2: Visualize using seaborn's heatmap\n",
        "plt.figure(figsize=(8, 6))\n",
        "sns.heatmap(cm, annot=True, fmt='d', cmap='Blues', xticklabels=['Pred 0', 'Pred 1'], yticklabels=['Actual 0', 'Actual 1'])\n",
        "plt.xlabel('Predicted')\n",
        "plt.ylabel('Actual')\n",
        "plt.title('Confusion Matrix')\n",
        "plt.show()\n"
      ],
      "metadata": {
        "colab": {
          "base_uri": "https://localhost:8080/",
          "height": 564
        },
        "id": "oNb5agz58dZF",
        "outputId": "c0d30f86-57ab-44f1-b6d2-2b68dd0137c6"
      },
      "execution_count": null,
      "outputs": [
        {
          "output_type": "display_data",
          "data": {
            "text/plain": [
              "<Figure size 800x600 with 2 Axes>"
            ],
            "image/png": "[encoded data removed]"
          },
          "metadata": {}
        }
      ]
    },
    {
      "cell_type": "code",
      "source": [
        "\n",
        "num_classes = 2  # Adjust this to the number of classes in your problem\n",
        "probs=plot_confusion_matrix(new_model, traindata_loader, num_classes, device)"
      ],
      "metadata": {
        "colab": {
          "base_uri": "https://localhost:8080/",
          "height": 634,
          "referenced_widgets": [
            "77b5f3f622dd4a13b3dc525a68740cba",
            "22348ba8035e48468b66c48a2fa9715a",
            "444aa7cb155d4ee5a7920b8dd4f5eb85",
            "424ecc1ab3fb4650ac7c0adfdcc4f851",
            "3f8d70448371470a98d7be8b57580072",
            "e8d1ee77a2244da5890a4fcea54391e1",
            "7575869bf3cf43abaacd63ef0acb881a",
            "b826cdf63fdc4ff9b9975a7c3cd420f3",
            "d8ab0df6ebbf429481cb384f560d5554",
            "982403c4d2d44f1daa0b31d2d413bdae",
            "fd2b8b2366774672a824071fd1ce9119"
          ]
        },
        "id": "xmz_Txom6YWP",
        "outputId": "9aec26a1-af3b-4083-c92a-867d25424716"
      },
      "execution_count": null,
      "outputs": [
        {
          "output_type": "display_data",
          "data": {
            "text/plain": [
              "  0%|          | 0/3191 [00:00<?, ?it/s]"
            ],
            "application/vnd.jupyter.widget-view+json": {
              "version_major": 2,
              "version_minor": 0,
              "model_id": "77b5f3f622dd4a13b3dc525a68740cba"
            }
          },
          "metadata": {}
        },
        {
          "output_type": "display_data",
          "data": {
            "text/plain": [
              "<Figure size 1000x800 with 2 Axes>"
            ],
            "image/png": "[encoded data removed]"
          },
          "metadata": {}
        }
      ]
    },
    {
      "cell_type": "code",
      "source": [
        "# Step 2: Stack the list of tensors into a single 2D tensor\n",
        "stacked_tensor = torch.stack(probs)  # Shape will be (3, 3)\n",
        "\n",
        "# Step 3: Convert the stacked tensor into a NumPy array\n",
        "probs_array = stacked_tensor.cpu() #.numpy()\n",
        "Z_train['probs'] = np.array(torch.softmax(probs_array[:][:,0], dim=1)[:,1])\n",
        "Z_train.reset_index().to_csv('./results_TrainHBV9.csv')"
      ],
      "metadata": {
        "id": "D0AtF0hI6YUk"
      },
      "execution_count": null,
      "outputs": []
    },
    {
      "cell_type": "code",
      "source": [
        "import pandas as pd\n",
        "import matplotlib.pyplot as plt\n",
        "import seaborn as sns\n",
        "from sklearn.metrics import confusion_matrix\n",
        "\n",
        "Z_train['pred']=(Z_train['probs'].values>0.00035).astype(np.int8)\n",
        "Z_train=Z_train.loc[Z_train['seq'].str.len() >0]\n",
        "Z_train[['Disease',\t'labels',\t'probs',\t'pred']]\n",
        "\n",
        "# Step 1: Create confusion matrix\n",
        "cm = confusion_matrix(Z_train['labels'], Z_train['pred'])\n",
        "\n",
        "# Step 2: Visualize using seaborn's heatmap\n",
        "plt.figure(figsize=(8, 6))\n",
        "sns.heatmap(cm, annot=True, fmt='d', cmap='Blues', xticklabels=['Pred 0', 'Pred 1'], yticklabels=['Actual 0', 'Actual 1'])\n",
        "plt.xlabel('Predicted')\n",
        "plt.ylabel('Actual')\n",
        "plt.title('Confusion Matrix')\n",
        "plt.show()\n"
      ],
      "metadata": {
        "colab": {
          "base_uri": "https://localhost:8080/",
          "height": 564
        },
        "id": "8jWHPUXx8F91",
        "outputId": "f2a7d0d4-934f-43e3-ef9a-65c118659968"
      },
      "execution_count": null,
      "outputs": [
        {
          "output_type": "display_data",
          "data": {
            "text/plain": [
              "<Figure size 800x600 with 2 Axes>"
            ],
            "image/png": "[encoded data removed]"
          },
          "metadata": {}
        }
      ]
    }
  ]
}